{
 "cells": [
  {
   "cell_type": "code",
   "execution_count": 33,
   "metadata": {},
   "outputs": [
    {
     "data": {
      "text/plain": [
       "'1.9.0'"
      ]
     },
     "execution_count": 33,
     "metadata": {},
     "output_type": "execute_result"
    }
   ],
   "source": [
    "#Lib imports\n",
    "import tensorflow as tf\n",
    "import numpy as np\n",
    "import matplotlib.pyplot as plt\n",
    "import matplotlib.patheffects as PathEffects\n",
    "%matplotlib inline\n",
    "plt.style.use('default')\n",
    "import seaborn as sns\n",
    "sns.set_style('darkgrid')\n",
    "sns.set_palette('muted')\n",
    "sns.set_context(\"notebook\", font_scale=1.5, rc={\"lines.linewidth\": 2.5})\n",
    "from sklearn.metrics import confusion_matrix\n",
    "import sys, os, io, string, shutil, math\n",
    "import glob\n",
    "from sklearn.manifold import TSNE\n",
    "from sklearn.decomposition import PCA\n",
    "from sklearn.decomposition import FastICA \n",
    "from sklearn import preprocessing\n",
    "import scipy.linalg as la\n",
    "import re\n",
    "#from tabulate import tabulate\n",
    "from scipy import stats\n",
    "import pickle\n",
    "import tinydb\n",
    "from sklearn.utils import shuffle\n",
    "\n",
    "tf.__version__\n",
    "#!pip install tinydb\n"
   ]
  },
  {
   "cell_type": "code",
   "execution_count": 96,
   "metadata": {},
   "outputs": [],
   "source": [
    "import statistics \n",
    "\n",
    "def get_error_bar(file_path):\n",
    "    jobdb = tinydb.TinyDB(file_path)\n",
    "    timing_data = [jobdb.all()[i]['tdiff']/3600.0 for i in range(len(jobdb.all())) if 'tdiff' in jobdb.all()[i].keys()]\n",
    "    variance_val = None\n",
    "    if len(timing_data) > 1:\n",
    "        variance_val = statistics.stdev(timing_data)\n",
    "        average = statistics.mean(timing_data)\n",
    "    return average, variance_val\n",
    "\n",
    "def tryint(s):\n",
    "    try:\n",
    "        return int(s)\n",
    "    except ValueError:\n",
    "        return s\n",
    "     \n",
    "def alphanum_key(s):\n",
    "    \"\"\" Turn a string into a list of string and number chunks.\n",
    "        \"z23a\" -> [\"z\", 23, \"a\"]\n",
    "    \"\"\"\n",
    "    return [ tryint(c) for c in re.split('([0-9]+)', s) ]\n",
    "\n",
    "\n",
    "def get_all_dir_names(root_path):\n",
    "    folder_list = []\n",
    "    files_list = []\n",
    "    p_data_list = sorted(glob.glob(root_path+\"/*\"), key=alphanum_key)\n",
    "    #print(p_data_list)\n",
    "    for i in range(len(p_data_list)):\n",
    "        sr_data_list = sorted(glob.glob(p_data_list[i]+\"/*\"), key=alphanum_key)\n",
    "        #print(sr_data_list)\n",
    "        for j in range(len(sr_data_list)):\n",
    "          folder_list.append(sr_data_list[j])\n",
    "          files_list = files_list + sorted(glob.glob(sr_data_list[j]+\"/jobdb.json\"), key=alphanum_key)\n",
    "            \n",
    "    return (folder_list, files_list)   \n",
    "                        "
   ]
  },
  {
   "cell_type": "code",
   "execution_count": 98,
   "metadata": {},
   "outputs": [
    {
     "name": "stdout",
     "output_type": "stream",
     "text": [
      "FigureA\n",
      "FigureB\n",
      "FigureC\n",
      "error_bars.ipynb\n",
      "exploration\n"
     ]
    }
   ],
   "source": [
    "!ls \n",
    "file_path = 'FigureC'\n",
    "folder_list, files_list = get_all_dir_names(file_path)"
   ]
  },
  {
   "cell_type": "code",
   "execution_count": 99,
   "metadata": {},
   "outputs": [
    {
     "name": "stdout",
     "output_type": "stream",
     "text": [
      "FigureC\\confinemnet_c_parellel\\32_1_8/jobdb.json\n",
      "0.271710670875\n",
      "0.029601153555127557\n",
      "FigureC\\confinemnet_c_parellel\\32_2_4/jobdb.json\n",
      "0.22227781653198653\n",
      "0.007503343424056197\n",
      "FigureC\\confinemnet_c_parellel\\32_4_2/jobdb.json\n",
      "0.19343376767676768\n",
      "0.005655743630808494\n",
      "FigureC\\confinemnet_c_parellel\\32_8_1/jobdb.json\n",
      "0.16193004519360268\n",
      "0.00322027460967823\n",
      "FigureC\\shapes_c_parellel\\32_1_8/jobdb.json\n",
      "0.2244034725763889\n",
      "0.00840617067341498\n",
      "FigureC\\shapes_c_parellel\\32_2_4/jobdb.json\n",
      "0.16309507472993828\n",
      "0.00844888250440223\n",
      "FigureC\\shapes_c_parellel\\32_4_2/jobdb.json\n",
      "0.1290345383006536\n",
      "0.003026314530994549\n",
      "FigureC\\shapes_c_parellel\\32_8_1/jobdb.json\n",
      "0.12322880763468014\n",
      "0.007006464699709836\n"
     ]
    }
   ],
   "source": [
    "for path in files_list: \n",
    "    print(path)\n",
    "    avg, std_div = get_error_bar(path)\n",
    "    print(avg)\n",
    "    print(std_div)"
   ]
  },
  {
   "cell_type": "code",
   "execution_count": 94,
   "metadata": {},
   "outputs": [],
   "source": [
    "file_path2 = 'FigureB'\n",
    "folder_list2, files_list2 = get_all_dir_names(file_path2)"
   ]
  },
  {
   "cell_type": "code",
   "execution_count": 97,
   "metadata": {},
   "outputs": [
    {
     "name": "stdout",
     "output_type": "stream",
     "text": [
      "FigureB\\confinement\\32_1_4/jobdb.json\n",
      "0.25921014485690236\n",
      "0.010104357164778793\n",
      "FigureB\\confinement\\32_2_4/jobdb.json\n",
      "0.22821429803819443\n",
      "0.004029552574871362\n",
      "FigureB\\confinement\\32_4_4/jobdb.json\n",
      "0.19701616530864197\n",
      "0.015112698505095931\n",
      "FigureB\\confinement\\32_8_4/jobdb.json\n",
      "0.18174559352623457\n",
      "0.007834304218321446\n",
      "FigureB\\shapes\\32_1_4/jobdb.json\n",
      "0.22140811848765432\n",
      "0.0013921408112571542\n",
      "FigureB\\shapes\\32_2_4/jobdb.json\n",
      "0.16065252054783952\n",
      "0.0024046108866246797\n",
      "FigureB\\shapes\\32_4_4/jobdb.json\n",
      "0.1305412618595679\n",
      "0.00819308227214517\n",
      "FigureB\\shapes\\32_8_4/jobdb.json\n",
      "0.11672745854938271\n",
      "0.007925136404713972\n"
     ]
    }
   ],
   "source": [
    "for path in files_list2: \n",
    "    print(path)\n",
    "    avg, std_div = get_error_bar(path)\n",
    "    print(avg)\n",
    "    print(std_div)\n",
    "    "
   ]
  }
 ],
 "metadata": {
  "kernelspec": {
   "display_name": "Python 3",
   "language": "python",
   "name": "python3"
  },
  "language_info": {
   "codemirror_mode": {
    "name": "ipython",
    "version": 3
   },
   "file_extension": ".py",
   "mimetype": "text/x-python",
   "name": "python",
   "nbconvert_exporter": "python",
   "pygments_lexer": "ipython3",
   "version": "3.6.3"
  }
 },
 "nbformat": 4,
 "nbformat_minor": 2
}
