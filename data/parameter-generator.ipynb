{
 "cells": [
  {
   "cell_type": "code",
   "execution_count": 29,
   "metadata": {
    "collapsed": true
   },
   "outputs": [],
   "source": [
    "import numpy as np\n",
    "import itertools\n",
    "import random\n",
    "\n",
    "def param_gen(param_dict, param_count = 100):\n",
    "    \n",
    "    #-Z 3 -p 1 -n -1 -c 0.5 -d 0.714    \n",
    "    # creating a dictionary to get how many different versions each variable will have\n",
    "    param_sizes = {key:len(param_dict[key])  for key in param_dict if type(param_dict[key]) is set}\n",
    "    #param_count by all the sets\n",
    "    param_count_set = np.prod(list(param_sizes.values()))\n",
    "    param_count_org =  abs(param_count)\n",
    "    if param_count <= 100:\n",
    "        param_count = abs(param_count) + 100     \n",
    "    #param_count for each range values\n",
    "    param_count_range = int(np.power(abs(param_count - param_count_set), 1/(len(param_dict) - len(param_sizes))))\n",
    "    # creating a dictionary to for all the values as sets\n",
    "    all_param_values = {key:param_dict[key]  for key in param_dict if type(param_dict[key]) is set}\n",
    "    \n",
    "    #generating the candidate values for each range paramater\n",
    "    for key in param_dict:\n",
    "        if type(param_dict[key]) is list:\n",
    "            param_sizes[key] =param_count_range\n",
    "            min_value = param_dict[key][0]\n",
    "            max_value = param_dict[key][1]\n",
    "            all_param_values[key] = set(np.around(np.arange(min_value,max_value,(max_value-min_value)/param_count_range), decimals=3))\n",
    "\n",
    "    # creating a dictionary to for all the values as sets\n",
    "    all_param_values_list = [ list(all_param_values[key]) for key in all_param_values]\n",
    "    # Headers\n",
    "    all_param_values_header = [ tuple(key for key in all_param_values)]\n",
    "    \n",
    "    \n",
    "    #generating a big list with all the parameters       \n",
    "    sim_configs = list(itertools.product(*all_param_values_list))\n",
    "    \n",
    "    random.shuffle(sim_configs) #shuffle method\n",
    "    if len(sim_configs) > param_count:\n",
    "        sim_configs = sim_configs[:param_count_org]\n",
    "\n",
    "    #adding header to the top   \n",
    "    sim_configs = all_param_values_header + sim_configs\n",
    "    return sim_configs"
   ]
  },
  {
   "cell_type": "code",
   "execution_count": 31,
   "metadata": {},
   "outputs": [
    {
     "data": {
      "text/plain": [
       "[('p', 'n', 'd', 'Z', 'c'),\n",
       " (1, -1, 0.714, 3.5, 0.6),\n",
       " (1, -1, 0.714, 3.8, 0.66),\n",
       " (3, -1, 0.714, 3.6, 0.48),\n",
       " (1, -1, 0.714, 3.9, 0.84),\n",
       " (3, -1, 0.714, 3.7, 0.36),\n",
       " (2, -1, 0.714, 3.9, 0.48),\n",
       " (2, -1, 0.714, 3.2, 0.84),\n",
       " (2, -1, 0.714, 3.5, 0.72),\n",
       " (3, -1, 0.714, 3.3, 0.84),\n",
       " (2, -1, 0.714, 3.0, 0.48),\n",
       " (2, -1, 0.714, 3.8, 0.66),\n",
       " (3, -1, 0.714, 3.3, 0.3),\n",
       " (2, -1, 0.714, 3.3, 0.66),\n",
       " (2, -1, 0.714, 3.9, 0.6),\n",
       " (2, -1, 0.714, 3.6, 0.48),\n",
       " (1, -1, 0.714, 3.4, 0.3),\n",
       " (3, -1, 0.714, 3.5, 0.66),\n",
       " (2, -1, 0.714, 3.2, 0.36),\n",
       " (1, -1, 0.714, 3.0, 0.66),\n",
       " (2, -1, 0.714, 3.7, 0.42)]"
      ]
     },
     "execution_count": 31,
     "metadata": {},
     "output_type": "execute_result"
    }
   ],
   "source": [
    "#testing the method for nano confinement\n",
    "config_nconfinement = { \n",
    "    'Z' : [3.0, 4.0],\n",
    "    'p' : {1, 2, 3},\n",
    "    'n' : {-1},\n",
    "    'd' : {0.714},\n",
    "    'c' : [0.3, 0.9]\n",
    "}\n",
    "\n",
    "paramters = param_gen(param_dict=config_nconfinement, param_count = 20)\n",
    "paramters"
   ]
  },
  {
   "cell_type": "code",
   "execution_count": 33,
   "metadata": {},
   "outputs": [
    {
     "data": {
      "text/plain": [
       "[('q', 't', 'b', 's', 'c'),\n",
       " (400, 2, 5, 40, 0.019),\n",
       " (300, 4, 10, 60, 0.086),\n",
       " (300, 1, 5, 60, 0.068),\n",
       " (600, 1, 10, 20, 0.034),\n",
       " (600, 1, 5, 20, 0.062),\n",
       " (100, 1, 5, 20, 0.024),\n",
       " (100, 0, 10, 80, 0.028),\n",
       " (200, 4, 20, 20, 0.095),\n",
       " (500, 2, 40, 100, 0.026),\n",
       " (600, 4, 20, 60, 0.045),\n",
       " (600, 0, 40, 80, 0.01),\n",
       " (600, 3, 5, 80, 0.017),\n",
       " (100, 4, 30, 20, 0.029),\n",
       " (200, 5, 20, 80, 0.031),\n",
       " (400, 1, 10, 100, 0.049),\n",
       " (100, 4, 40, 80, 0.081),\n",
       " (300, 1, 30, 40, 0.017),\n",
       " (100, 1, 10, 40, 0.038),\n",
       " (600, 2, 5, 80, 0.03),\n",
       " (200, 1, 30, 40, 0.091)]"
      ]
     },
     "execution_count": 33,
     "metadata": {},
     "output_type": "execute_result"
    }
   ],
   "source": [
    "#testing the method for shapes code\n",
    "#-q 900 -c 0.02 -t 3 -b 30 -s 30\n",
    "\n",
    "config_shapes = { \n",
    "    'q' : {100, 200, 300, 400, 500, 600},\n",
    "    'c' : [0.01, 0.1],\n",
    "    't' : {0, 1, 2, 3, 4, 5},\n",
    "    'b' : {5, 10, 20, 30, 40},\n",
    "    's' : {20, 40, 60, 80, 100}\n",
    "}\n",
    "\n",
    "paramters = param_gen(param_dict=config_shapes, param_count = 20)\n",
    "paramters"
   ]
  }
 ],
 "metadata": {
  "kernelspec": {
   "display_name": "Python 3",
   "language": "python",
   "name": "python3"
  },
  "language_info": {
   "codemirror_mode": {
    "name": "ipython",
    "version": 3
   },
   "file_extension": ".py",
   "mimetype": "text/x-python",
   "name": "python",
   "nbconvert_exporter": "python",
   "pygments_lexer": "ipython3",
   "version": "3.6.3"
  }
 },
 "nbformat": 4,
 "nbformat_minor": 2
}
