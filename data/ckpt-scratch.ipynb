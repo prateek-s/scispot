{
 "cells": [
  {
   "cell_type": "code",
   "execution_count": 1,
   "metadata": {},
   "outputs": [],
   "source": [
    "import numpy as np"
   ]
  },
  {
   "cell_type": "code",
   "execution_count": 2,
   "metadata": {},
   "outputs": [],
   "source": [
    "import scipy"
   ]
  },
  {
   "cell_type": "code",
   "execution_count": 52,
   "metadata": {},
   "outputs": [
    {
     "ename": "ModuleNotFoundError",
     "evalue": "No module named 'statsmodels'",
     "output_type": "error",
     "traceback": [
      "\u001b[0;31m---------------------------------------------------------------------------\u001b[0m",
      "\u001b[0;31mModuleNotFoundError\u001b[0m                       Traceback (most recent call last)",
      "\u001b[0;32m<ipython-input-52-5ba9ee82d2c3>\u001b[0m in \u001b[0;36m<module>\u001b[0;34m()\u001b[0m\n\u001b[1;32m      1\u001b[0m \u001b[0;32mimport\u001b[0m \u001b[0mmatplotlib\u001b[0m\u001b[0;34m.\u001b[0m\u001b[0mpyplot\u001b[0m \u001b[0;32mas\u001b[0m \u001b[0mplt\u001b[0m\u001b[0;34m\u001b[0m\u001b[0;34m\u001b[0m\u001b[0m\n\u001b[0;32m----> 2\u001b[0;31m \u001b[0;32mimport\u001b[0m \u001b[0mstatsmodels\u001b[0m\u001b[0;34m\u001b[0m\u001b[0;34m\u001b[0m\u001b[0m\n\u001b[0m",
      "\u001b[0;31mModuleNotFoundError\u001b[0m: No module named 'statsmodels'"
     ]
    }
   ],
   "source": [
    "import matplotlib.pyplot as plt\n",
    "import statsmodels"
   ]
  },
  {
   "cell_type": "code",
   "execution_count": 4,
   "metadata": {},
   "outputs": [],
   "source": [
    "fails_full=[86460.7, 2363.482, 86439.649, 88954.991, 88949.557, 1245.761, 88928.863, 4810.814, 22303.542, 2392.038, 4648.701, 76766.687, 6563.444, 38889.587, 88462.394, 88456.938, 895.826, 401.218, 86488.147, 86480.014, 86474.189, 86467.604, 86462.225]\n"
   ]
  },
  {
   "cell_type": "code",
   "execution_count": 5,
   "metadata": {},
   "outputs": [],
   "source": [
    "fails_full.sort()"
   ]
  },
  {
   "cell_type": "code",
   "execution_count": 6,
   "metadata": {},
   "outputs": [
    {
     "data": {
      "text/plain": [
       "[401.218,\n",
       " 895.826,\n",
       " 1245.761,\n",
       " 2363.482,\n",
       " 2392.038,\n",
       " 4648.701,\n",
       " 4810.814,\n",
       " 6563.444,\n",
       " 22303.542,\n",
       " 38889.587,\n",
       " 76766.687,\n",
       " 86439.649,\n",
       " 86460.7,\n",
       " 86462.225,\n",
       " 86467.604,\n",
       " 86474.189,\n",
       " 86480.014,\n",
       " 86488.147,\n",
       " 88456.938,\n",
       " 88462.394,\n",
       " 88928.863,\n",
       " 88949.557,\n",
       " 88954.991]"
      ]
     },
     "execution_count": 6,
     "metadata": {},
     "output_type": "execute_result"
    }
   ],
   "source": [
    "fails_full"
   ]
  },
  {
   "cell_type": "code",
   "execution_count": 9,
   "metadata": {},
   "outputs": [
    {
     "data": {
      "text/plain": [
       "True"
      ]
     },
     "execution_count": 9,
     "metadata": {},
     "output_type": "execute_result"
    }
   ],
   "source": [
    "100 < np.inf "
   ]
  },
  {
   "cell_type": "code",
   "execution_count": 23,
   "metadata": {},
   "outputs": [],
   "source": [
    "s=np.random.rand(4,2,5)"
   ]
  },
  {
   "cell_type": "code",
   "execution_count": 24,
   "metadata": {},
   "outputs": [
    {
     "data": {
      "text/plain": [
       "array([[[0.53312299, 0.14295332, 0.48499436, 0.36475753, 0.12916824],\n",
       "        [0.50907831, 0.75233017, 0.64147648, 0.27351367, 0.39700702]],\n",
       "\n",
       "       [[0.74912625, 0.97259171, 0.56215712, 0.95429884, 0.67086804],\n",
       "        [0.60747072, 0.01641885, 0.26159965, 0.52372262, 0.33607769]],\n",
       "\n",
       "       [[0.24477122, 0.13059557, 0.70729803, 0.58722194, 0.29461209],\n",
       "        [0.10795835, 0.55473761, 0.35914098, 0.6604266 , 0.71290053]],\n",
       "\n",
       "       [[0.23711322, 0.30989468, 0.51093923, 0.57631076, 0.56459827],\n",
       "        [0.96496764, 0.10482286, 0.92447553, 0.22780292, 0.62036215]]])"
      ]
     },
     "execution_count": 24,
     "metadata": {},
     "output_type": "execute_result"
    }
   ],
   "source": [
    "s"
   ]
  },
  {
   "cell_type": "code",
   "execution_count": 26,
   "metadata": {},
   "outputs": [
    {
     "data": {
      "text/plain": [
       "array([[0.23711322, 0.30989468, 0.51093923, 0.57631076, 0.56459827],\n",
       "       [0.96496764, 0.10482286, 0.92447553, 0.22780292, 0.62036215]])"
      ]
     },
     "execution_count": 26,
     "metadata": {},
     "output_type": "execute_result"
    }
   ],
   "source": [
    "s[3]"
   ]
  },
  {
   "cell_type": "code",
   "execution_count": 27,
   "metadata": {},
   "outputs": [],
   "source": [
    "d=dict()"
   ]
  },
  {
   "cell_type": "code",
   "execution_count": 28,
   "metadata": {},
   "outputs": [],
   "source": [
    "d[(1,2)]=1"
   ]
  },
  {
   "cell_type": "code",
   "execution_count": 29,
   "metadata": {},
   "outputs": [
    {
     "data": {
      "text/plain": [
       "{(1, 2): 1}"
      ]
     },
     "execution_count": 29,
     "metadata": {},
     "output_type": "execute_result"
    }
   ],
   "source": [
    "d"
   ]
  },
  {
   "cell_type": "code",
   "execution_count": 31,
   "metadata": {},
   "outputs": [],
   "source": [
    "t=(1,2)"
   ]
  },
  {
   "cell_type": "code",
   "execution_count": 32,
   "metadata": {},
   "outputs": [],
   "source": [
    "d[t]=3"
   ]
  },
  {
   "cell_type": "code",
   "execution_count": 33,
   "metadata": {},
   "outputs": [
    {
     "data": {
      "text/plain": [
       "{(1, 2): 3}"
      ]
     },
     "execution_count": 33,
     "metadata": {},
     "output_type": "execute_result"
    }
   ],
   "source": [
    "d"
   ]
  },
  {
   "cell_type": "code",
   "execution_count": 36,
   "metadata": {},
   "outputs": [
    {
     "data": {
      "text/plain": [
       "[1, 2, 3, 4, 5, 6, 7, 8, 9]"
      ]
     },
     "execution_count": 36,
     "metadata": {},
     "output_type": "execute_result"
    }
   ],
   "source": [
    "list(range(1,10))"
   ]
  },
  {
   "cell_type": "code",
   "execution_count": 38,
   "metadata": {},
   "outputs": [
    {
     "ename": "NameError",
     "evalue": "name 'xrange' is not defined",
     "output_type": "error",
     "traceback": [
      "\u001b[0;31m---------------------------------------------------------------------------\u001b[0m",
      "\u001b[0;31mNameError\u001b[0m                                 Traceback (most recent call last)",
      "\u001b[0;32m<ipython-input-38-2461a00638ca>\u001b[0m in \u001b[0;36m<module>\u001b[0;34m()\u001b[0m\n\u001b[0;32m----> 1\u001b[0;31m \u001b[0;32mfor\u001b[0m \u001b[0mi\u001b[0m \u001b[0;32min\u001b[0m \u001b[0mxrange\u001b[0m\u001b[0;34m(\u001b[0m\u001b[0;36m1\u001b[0m\u001b[0;34m,\u001b[0m\u001b[0;36m10\u001b[0m\u001b[0;34m)\u001b[0m\u001b[0;34m:\u001b[0m\u001b[0;34m\u001b[0m\u001b[0;34m\u001b[0m\u001b[0m\n\u001b[0m\u001b[1;32m      2\u001b[0m     \u001b[0mprint\u001b[0m\u001b[0;34m(\u001b[0m\u001b[0mi\u001b[0m\u001b[0;34m)\u001b[0m\u001b[0;34m\u001b[0m\u001b[0;34m\u001b[0m\u001b[0m\n",
      "\u001b[0;31mNameError\u001b[0m: name 'xrange' is not defined"
     ]
    }
   ],
   "source": [
    "for i in xrange(1,10):\n",
    "    print(i)"
   ]
  },
  {
   "cell_type": "code",
   "execution_count": 42,
   "metadata": {},
   "outputs": [],
   "source": [
    "list(range(1,10))\n",
    "import math"
   ]
  },
  {
   "cell_type": "code",
   "execution_count": 51,
   "metadata": {},
   "outputs": [
    {
     "data": {
      "text/plain": [
       "15.491933384829668"
      ]
     },
     "execution_count": 51,
     "metadata": {},
     "output_type": "execute_result"
    }
   ],
   "source": [
    "math.sqrt(2*1*2*60)"
   ]
  },
  {
   "cell_type": "code",
   "execution_count": 53,
   "metadata": {},
   "outputs": [],
   "source": [
    "import scipy"
   ]
  },
  {
   "cell_type": "code",
   "execution_count": 55,
   "metadata": {},
   "outputs": [],
   "source": [
    "import statsmodels"
   ]
  },
  {
   "cell_type": "code",
   "execution_count": 59,
   "metadata": {},
   "outputs": [
    {
     "name": "stdout",
     "output_type": "stream",
     "text": [
      "Help on module statsmodels.tools.tools in statsmodels.tools:\n",
      "\n",
      "NAME\n",
      "    statsmodels.tools.tools - Utility functions models code\n",
      "\n",
      "CLASSES\n",
      "    builtins.dict(builtins.object)\n",
      "        Bunch\n",
      "    \n",
      "    class Bunch(builtins.dict)\n",
      "     |  Returns a dict-like object with keys accessible via attribute lookup.\n",
      "     |  \n",
      "     |  Method resolution order:\n",
      "     |      Bunch\n",
      "     |      builtins.dict\n",
      "     |      builtins.object\n",
      "     |  \n",
      "     |  Methods defined here:\n",
      "     |  \n",
      "     |  __init__(self, **kw)\n",
      "     |      Initialize self.  See help(type(self)) for accurate signature.\n",
      "     |  \n",
      "     |  ----------------------------------------------------------------------\n",
      "     |  Data descriptors defined here:\n",
      "     |  \n",
      "     |  __dict__\n",
      "     |      dictionary for instance variables (if defined)\n",
      "     |  \n",
      "     |  __weakref__\n",
      "     |      list of weak references to the object (if defined)\n",
      "     |  \n",
      "     |  ----------------------------------------------------------------------\n",
      "     |  Methods inherited from builtins.dict:\n",
      "     |  \n",
      "     |  __contains__(self, key, /)\n",
      "     |      True if D has a key k, else False.\n",
      "     |  \n",
      "     |  __delitem__(self, key, /)\n",
      "     |      Delete self[key].\n",
      "     |  \n",
      "     |  __eq__(self, value, /)\n",
      "     |      Return self==value.\n",
      "     |  \n",
      "     |  __ge__(self, value, /)\n",
      "     |      Return self>=value.\n",
      "     |  \n",
      "     |  __getattribute__(self, name, /)\n",
      "     |      Return getattr(self, name).\n",
      "     |  \n",
      "     |  __getitem__(...)\n",
      "     |      x.__getitem__(y) <==> x[y]\n",
      "     |  \n",
      "     |  __gt__(self, value, /)\n",
      "     |      Return self>value.\n",
      "     |  \n",
      "     |  __iter__(self, /)\n",
      "     |      Implement iter(self).\n",
      "     |  \n",
      "     |  __le__(self, value, /)\n",
      "     |      Return self<=value.\n",
      "     |  \n",
      "     |  __len__(self, /)\n",
      "     |      Return len(self).\n",
      "     |  \n",
      "     |  __lt__(self, value, /)\n",
      "     |      Return self<value.\n",
      "     |  \n",
      "     |  __ne__(self, value, /)\n",
      "     |      Return self!=value.\n",
      "     |  \n",
      "     |  __new__(*args, **kwargs) from builtins.type\n",
      "     |      Create and return a new object.  See help(type) for accurate signature.\n",
      "     |  \n",
      "     |  __repr__(self, /)\n",
      "     |      Return repr(self).\n",
      "     |  \n",
      "     |  __setitem__(self, key, value, /)\n",
      "     |      Set self[key] to value.\n",
      "     |  \n",
      "     |  __sizeof__(...)\n",
      "     |      D.__sizeof__() -> size of D in memory, in bytes\n",
      "     |  \n",
      "     |  clear(...)\n",
      "     |      D.clear() -> None.  Remove all items from D.\n",
      "     |  \n",
      "     |  copy(...)\n",
      "     |      D.copy() -> a shallow copy of D\n",
      "     |  \n",
      "     |  fromkeys(iterable, value=None, /) from builtins.type\n",
      "     |      Returns a new dict with keys from iterable and values equal to value.\n",
      "     |  \n",
      "     |  get(...)\n",
      "     |      D.get(k[,d]) -> D[k] if k in D, else d.  d defaults to None.\n",
      "     |  \n",
      "     |  items(...)\n",
      "     |      D.items() -> a set-like object providing a view on D's items\n",
      "     |  \n",
      "     |  keys(...)\n",
      "     |      D.keys() -> a set-like object providing a view on D's keys\n",
      "     |  \n",
      "     |  pop(...)\n",
      "     |      D.pop(k[,d]) -> v, remove specified key and return the corresponding value.\n",
      "     |      If key is not found, d is returned if given, otherwise KeyError is raised\n",
      "     |  \n",
      "     |  popitem(...)\n",
      "     |      D.popitem() -> (k, v), remove and return some (key, value) pair as a\n",
      "     |      2-tuple; but raise KeyError if D is empty.\n",
      "     |  \n",
      "     |  setdefault(...)\n",
      "     |      D.setdefault(k[,d]) -> D.get(k,d), also set D[k]=d if k not in D\n",
      "     |  \n",
      "     |  update(...)\n",
      "     |      D.update([E, ]**F) -> None.  Update D from dict/iterable E and F.\n",
      "     |      If E is present and has a .keys() method, then does:  for k in E: D[k] = E[k]\n",
      "     |      If E is present and lacks a .keys() method, then does:  for k, v in E: D[k] = v\n",
      "     |      In either case, this is followed by: for k in F:  D[k] = F[k]\n",
      "     |  \n",
      "     |  values(...)\n",
      "     |      D.values() -> an object providing a view on D's values\n",
      "     |  \n",
      "     |  ----------------------------------------------------------------------\n",
      "     |  Data and other attributes inherited from builtins.dict:\n",
      "     |  \n",
      "     |  __hash__ = None\n",
      "\n",
      "FUNCTIONS\n",
      "    add_constant(data, prepend=True, has_constant='skip')\n",
      "        Adds a column of ones to an array\n",
      "        \n",
      "        Parameters\n",
      "        ----------\n",
      "        data : array-like\n",
      "            ``data`` is the column-ordered design matrix\n",
      "        prepend : bool\n",
      "            If true, the constant is in the first column.  Else the constant is\n",
      "            appended (last column).\n",
      "        has_constant : str {'raise', 'add', 'skip'}\n",
      "            Behavior if ``data`` already has a constant. The default will return\n",
      "            data without adding another constant. If 'raise', will raise an\n",
      "            error if a constant is present. Using 'add' will duplicate the\n",
      "            constant, if one is present.\n",
      "        \n",
      "        Returns\n",
      "        -------\n",
      "        data : array, recarray or DataFrame\n",
      "            The original values with a constant (column of ones) as the first or\n",
      "            last column. Returned value depends on input type.\n",
      "        \n",
      "        Notes\n",
      "        -----\n",
      "        When the input is recarray or a pandas Series or DataFrame, the added\n",
      "        column's name is 'const'.\n",
      "    \n",
      "    categorical(data, col=None, dictnames=False, drop=False)\n",
      "        Returns a dummy matrix given an array of categorical variables.\n",
      "        \n",
      "        Parameters\n",
      "        ----------\n",
      "        data : array\n",
      "            A structured array, recarray, or array.  This can be either\n",
      "            a 1d vector of the categorical variable or a 2d array with\n",
      "            the column specifying the categorical variable specified by the col\n",
      "            argument.\n",
      "        col : 'string', int, or None\n",
      "            If data is a structured array or a recarray, `col` can be a string\n",
      "            that is the name of the column that contains the variable.  For all\n",
      "            arrays `col` can be an int that is the (zero-based) column index\n",
      "            number.  `col` can only be None for a 1d array.  The default is None.\n",
      "        dictnames : bool, optional\n",
      "            If True, a dictionary mapping the column number to the categorical\n",
      "            name is returned.  Used to have information about plain arrays.\n",
      "        drop : bool\n",
      "            Whether or not keep the categorical variable in the returned matrix.\n",
      "        \n",
      "        Returns\n",
      "        --------\n",
      "        dummy_matrix, [dictnames, optional]\n",
      "            A matrix of dummy (indicator/binary) float variables for the\n",
      "            categorical data.  If dictnames is True, then the dictionary\n",
      "            is returned as well.\n",
      "        \n",
      "        Notes\n",
      "        -----\n",
      "        This returns a dummy variable for EVERY distinct variable.  If a\n",
      "        a structured or recarray is provided, the names for the new variable is the\n",
      "        old variable name - underscore - category name.  So if the a variable\n",
      "        'vote' had answers as 'yes' or 'no' then the returned array would have to\n",
      "        new variables-- 'vote_yes' and 'vote_no'.  There is currently\n",
      "        no name checking.\n",
      "        \n",
      "        Examples\n",
      "        --------\n",
      "        >>> import numpy as np\n",
      "        >>> import statsmodels.api as sm\n",
      "        \n",
      "        Univariate examples\n",
      "        \n",
      "        >>> import string\n",
      "        >>> string_var = [string.ascii_lowercase[0:5],                       string.ascii_lowercase[5:10],                       string.ascii_lowercase[10:15],                       string.ascii_lowercase[15:20],                         string.ascii_lowercase[20:25]]\n",
      "        >>> string_var *= 5\n",
      "        >>> string_var = np.asarray(sorted(string_var))\n",
      "        >>> design = sm.tools.categorical(string_var, drop=True)\n",
      "        \n",
      "        Or for a numerical categorical variable\n",
      "        \n",
      "        >>> instr = np.floor(np.arange(10,60, step=2)/10)\n",
      "        >>> design = sm.tools.categorical(instr, drop=True)\n",
      "        \n",
      "        With a structured array\n",
      "        \n",
      "        >>> num = np.random.randn(25,2)\n",
      "        >>> struct_ar = np.zeros((25,1), dtype=[('var1', 'f4'),('var2', 'f4'),                      ('instrument','f4'),('str_instr','a5')])\n",
      "        >>> struct_ar['var1'] = num[:,0][:,None]\n",
      "        >>> struct_ar['var2'] = num[:,1][:,None]\n",
      "        >>> struct_ar['instrument'] = instr[:,None]\n",
      "        >>> struct_ar['str_instr'] = string_var[:,None]\n",
      "        >>> design = sm.tools.categorical(struct_ar, col='instrument', drop=True)\n",
      "        \n",
      "        Or\n",
      "        \n",
      "        >>> design2 = sm.tools.categorical(struct_ar, col='str_instr', drop=True)\n",
      "    \n",
      "    chain_dot(*arrs)\n",
      "        Returns the dot product of the given matrices.\n",
      "        \n",
      "        Parameters\n",
      "        ----------\n",
      "        arrs: argument list of ndarray\n",
      "        \n",
      "        Returns\n",
      "        -------\n",
      "        Dot product of all arguments.\n",
      "        \n",
      "        Examples\n",
      "        --------\n",
      "        >>> import numpy as np\n",
      "        >>> from statsmodels.tools import chain_dot\n",
      "        >>> A = np.arange(1,13).reshape(3,4)\n",
      "        >>> B = np.arange(3,15).reshape(4,3)\n",
      "        >>> C = np.arange(5,8).reshape(3,1)\n",
      "        >>> chain_dot(A,B,C)\n",
      "        array([[1820],\n",
      "           [4300],\n",
      "           [6780]])\n",
      "    \n",
      "    clean0(matrix)\n",
      "        Erase columns of zeros: can save some time in pseudoinverse.\n",
      "    \n",
      "    drop_missing(Y, X=None, axis=1)\n",
      "        Returns views on the arrays Y and X where missing observations are dropped.\n",
      "        \n",
      "        Y : array-like\n",
      "        X : array-like, optional\n",
      "        axis : int\n",
      "            Axis along which to look for missing observations.  Default is 1, ie.,\n",
      "            observations in rows.\n",
      "        \n",
      "        Returns\n",
      "        -------\n",
      "        Y : array\n",
      "            All Y where the\n",
      "        X : array\n",
      "        \n",
      "        Notes\n",
      "        -----\n",
      "        If either Y or X is 1d, it is reshaped to be 2d.\n",
      "    \n",
      "    fullrank(X, r=None)\n",
      "        Return a matrix whose column span is the same as X.\n",
      "        \n",
      "        If the rank of X is known it can be specified as r -- no check\n",
      "        is made to ensure that this really is the rank of X.\n",
      "    \n",
      "    isestimable(C, D)\n",
      "        True if (Q, P) contrast `C` is estimable for (N, P) design `D`\n",
      "        \n",
      "        From an Q x P contrast matrix `C` and an N x P design matrix `D`, checks if\n",
      "        the contrast `C` is estimable by looking at the rank of ``vstack([C,D])``\n",
      "        and verifying it is the same as the rank of `D`.\n",
      "        \n",
      "        Parameters\n",
      "        ----------\n",
      "        C : (Q, P) array-like\n",
      "            contrast matrix. If `C` has is 1 dimensional assume shape (1, P)\n",
      "        D: (N, P) array-like\n",
      "            design matrix\n",
      "        \n",
      "        Returns\n",
      "        -------\n",
      "        tf : bool\n",
      "            True if the contrast `C` is estimable on design `D`\n",
      "        \n",
      "        Examples\n",
      "        --------\n",
      "        >>> D = np.array([[1, 1, 1, 0, 0, 0],\n",
      "        ...               [0, 0, 0, 1, 1, 1],\n",
      "        ...               [1, 1, 1, 1, 1, 1]]).T\n",
      "        >>> isestimable([1, 0, 0], D)\n",
      "        False\n",
      "        >>> isestimable([1, -1, 0], D)\n",
      "        True\n",
      "    \n",
      "    maybe_unwrap_results(results)\n",
      "        Gets raw results back from wrapped results.\n",
      "        \n",
      "        Can be used in plotting functions or other post-estimation type\n",
      "        routines.\n",
      "    \n",
      "    nan_dot(A, B)\n",
      "        Returns np.dot(left_matrix, right_matrix) with the convention that\n",
      "        nan * 0 = 0 and nan * x = nan if x != 0.\n",
      "        \n",
      "        Parameters\n",
      "        ----------\n",
      "        A, B : np.ndarrays\n",
      "    \n",
      "    pinv_extended(X, rcond=1e-15)\n",
      "        Return the pinv of an array X as well as the singular values\n",
      "        used in computation.\n",
      "        \n",
      "        Code adapted from numpy.\n",
      "    \n",
      "    rank(X, cond=1e-12)\n",
      "        Return the rank of a matrix X based on its generalized inverse,\n",
      "        not the SVD.\n",
      "    \n",
      "    recipr(X)\n",
      "        Return the reciprocal of an array, setting all entries less than or\n",
      "        equal to 0 to 0. Therefore, it presumes that X should be positive in\n",
      "        general.\n",
      "    \n",
      "    recipr0(X)\n",
      "        Return the reciprocal of an array, setting all entries equal to 0\n",
      "        as 0. It does not assume that X should be positive in\n",
      "        general.\n",
      "    \n",
      "    reduce(...)\n",
      "        reduce(function, sequence[, initial]) -> value\n",
      "        \n",
      "        Apply a function of two arguments cumulatively to the items of a sequence,\n",
      "        from left to right, so as to reduce the sequence to a single value.\n",
      "        For example, reduce(lambda x, y: x+y, [1, 2, 3, 4, 5]) calculates\n",
      "        ((((1+2)+3)+4)+5).  If initial is present, it is placed before the items\n",
      "        of the sequence in the calculation, and serves as a default when the\n",
      "        sequence is empty.\n",
      "    \n",
      "    unsqueeze(data, axis, oldshape)\n",
      "        Unsqueeze a collapsed array\n",
      "        \n",
      "        >>> from numpy import mean\n",
      "        >>> from numpy.random import standard_normal\n",
      "        >>> x = standard_normal((3,4,5))\n",
      "        >>> m = mean(x, axis=1)\n",
      "        >>> m.shape\n",
      "        (3, 5)\n",
      "        >>> m = unsqueeze(m, 1, x.shape)\n",
      "        >>> m.shape\n",
      "        (3, 1, 5)\n",
      "        >>>\n",
      "\n",
      "FILE\n",
      "    /usr/lib/python3/dist-packages/statsmodels/tools/tools.py\n",
      "\n",
      "\n"
     ]
    }
   ],
   "source": [
    "help(statsmodels.tools.tools)"
   ]
  },
  {
   "cell_type": "code",
   "execution_count": 60,
   "metadata": {},
   "outputs": [],
   "source": [
    "from statsmodels.distributions.empirical_distribution import ECDF"
   ]
  },
  {
   "cell_type": "code",
   "execution_count": 75,
   "metadata": {},
   "outputs": [],
   "source": [
    "fail_minutes = np.array(fails_full)/60.0\n",
    "e=ECDF(fail_minutes)"
   ]
  },
  {
   "cell_type": "code",
   "execution_count": 77,
   "metadata": {},
   "outputs": [
    {
     "data": {
      "text/plain": [
       "[<matplotlib.lines.Line2D at 0x7f66713fb860>]"
      ]
     },
     "execution_count": 77,
     "metadata": {},
     "output_type": "execute_result"
    },
    {
     "data": {
      "image/png": "[encoded data removed]",
      "text/plain": [
       "<matplotlib.figure.Figure at 0x7f66716fa240>"
      ]
     },
     "metadata": {},
     "output_type": "display_data"
    }
   ],
   "source": [
    "plt.plot(e.x, e.y)"
   ]
  },
  {
   "cell_type": "code",
   "execution_count": 90,
   "metadata": {},
   "outputs": [],
   "source": [
    "def P_suc_empirical(twindow, t_start):\n",
    "    left_idx = find_nearest(e.x, t_start)\n",
    "    right_idx = find_nearest(e.x, t_start+twindow)\n",
    "    if right_idx == left_idx:\n",
    "        right_idx = right_idx+1\n",
    "        \n",
    "    cdf_left = e.y[left_idx]\n",
    "    cdf_right = e.y[right_idx]\n",
    "    pfail = cdf_right-cdf_left \n",
    "    return 1.0-pfail"
   ]
  },
  {
   "cell_type": "code",
   "execution_count": null,
   "metadata": {},
   "outputs": [],
   "source": []
  },
  {
   "cell_type": "code",
   "execution_count": 91,
   "metadata": {},
   "outputs": [],
   "source": [
    "def find_nearest(array, value):\n",
    "    idx = np.searchsorted(array, value, side=\"left\")\n",
    "    if idx > 0 and (idx == len(array) or math.fabs(value - array[idx-1]) < math.fabs(value - array[idx])):\n",
    "        return idx-1\n",
    "    else:\n",
    "        return idx"
   ]
  },
  {
   "cell_type": "code",
   "execution_count": 92,
   "metadata": {},
   "outputs": [
    {
     "data": {
      "text/plain": [
       "0.9565217391304348"
      ]
     },
     "execution_count": 92,
     "metadata": {},
     "output_type": "execute_result"
    }
   ],
   "source": [
    "P_suc_empirical(2*60,5*60)"
   ]
  },
  {
   "cell_type": "code",
   "execution_count": 88,
   "metadata": {},
   "outputs": [
    {
     "data": {
      "text/plain": [
       "14.617226702898552"
      ]
     },
     "execution_count": 88,
     "metadata": {},
     "output_type": "execute_result"
    }
   ],
   "source": [
    "np.mean(fail_minutes)/60"
   ]
  },
  {
   "cell_type": "code",
   "execution_count": 94,
   "metadata": {},
   "outputs": [
    {
     "data": {
      "text/plain": [
       "0.049999999999999996"
      ]
     },
     "execution_count": 94,
     "metadata": {},
     "output_type": "execute_result"
    }
   ],
   "source": [
    "0.6/12"
   ]
  },
  {
   "cell_type": "code",
   "execution_count": null,
   "metadata": {},
   "outputs": [],
   "source": []
  }
 ],
 "metadata": {
  "kernelspec": {
   "display_name": "Python 3",
   "language": "python",
   "name": "python3"
  },
  "language_info": {
   "codemirror_mode": {
    "name": "ipython",
    "version": 3
   },
   "file_extension": ".py",
   "mimetype": "text/x-python",
   "name": "python",
   "nbconvert_exporter": "python",
   "pygments_lexer": "ipython3",
   "version": "3.6.7"
  }
 },
 "nbformat": 4,
 "nbformat_minor": 2
}
