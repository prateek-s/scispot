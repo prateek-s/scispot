{
 "cells": [
  {
   "cell_type": "code",
   "execution_count": 30,
   "metadata": {
    "collapsed": true
   },
   "outputs": [],
   "source": [
    "import googleapiclient.discovery\n",
    "import os, sys\n",
    "import random\n",
    "import time "
   ]
  },
  {
   "cell_type": "code",
   "execution_count": 31,
   "metadata": {
    "collapsed": true
   },
   "outputs": [],
   "source": [
    "project='first-220321'\n",
    "zc='us-east1-b'"
   ]
  },
  {
   "cell_type": "code",
   "execution_count": 32,
   "metadata": {
    "collapsed": true
   },
   "outputs": [],
   "source": [
    "compute = googleapiclient.discovery.build('compute', 'v1')"
   ]
  },
  {
   "cell_type": "code",
   "execution_count": 33,
   "metadata": {
    "collapsed": true
   },
   "outputs": [],
   "source": [
    "instances=compute.instances()\n",
    "ilist = instances.list(project='first-220321',zone=zc, filter=\"status = RUNNING\").execute()"
   ]
  },
  {
   "cell_type": "code",
   "execution_count": 43,
   "metadata": {
    "collapsed": true
   },
   "outputs": [],
   "source": [
    "alist = instances.list(project='first-220321',zone=zc).execute()"
   ]
  },
  {
   "cell_type": "code",
   "execution_count": 44,
   "metadata": {},
   "outputs": [
    {
     "data": {
      "text/plain": [
       "[(u'aardvark15', u'TERMINATED'),\n",
       " (u'aardvark16', u'TERMINATED'),\n",
       " (u'aardvark17', u'TERMINATED'),\n",
       " (u'aardvark18', u'TERMINATED'),\n",
       " (u'aardvark19', u'TERMINATED'),\n",
       " (u'abacus1', u'TERMINATED'),\n",
       " (u'abacus2', u'TERMINATED'),\n",
       " (u'abacus3', u'TERMINATED'),\n",
       " (u'abacus4', u'TERMINATED'),\n",
       " (u'abbey1', u'TERMINATED'),\n",
       " (u'abbey2', u'TERMINATED'),\n",
       " (u'abbey3', u'TERMINATED'),\n",
       " (u'abbey4', u'TERMINATED'),\n",
       " (u'abbey5', u'TERMINATED'),\n",
       " (u'abbey6', u'TERMINATED'),\n",
       " (u'abbey7', u'TERMINATED'),\n",
       " (u'abbey8', u'TERMINATED'),\n",
       " (u'abra1', u'TERMINATED'),\n",
       " (u'abra2', u'TERMINATED'),\n",
       " (u'abra3', u'TERMINATED'),\n",
       " (u'abra4', u'TERMINATED'),\n",
       " (u'absynth1', u'TERMINATED'),\n",
       " (u'absynth2', u'TERMINATED'),\n",
       " (u'absynth3', u'TERMINATED'),\n",
       " (u'absynth4', u'TERMINATED'),\n",
       " (u'absynth5', u'TERMINATED'),\n",
       " (u'absynth6', u'TERMINATED'),\n",
       " (u'abyss1', u'TERMINATED'),\n",
       " (u'abyss2', u'TERMINATED'),\n",
       " (u'abyss3', u'TERMINATED'),\n",
       " (u'abyss4', u'TERMINATED'),\n",
       " (u'acacia1', u'TERMINATED'),\n",
       " (u'acacia2', u'TERMINATED'),\n",
       " (u'acacia3', u'TERMINATED'),\n",
       " (u'acacia4', u'TERMINATED'),\n",
       " (u'acer1', u'TERMINATED'),\n",
       " (u'acer2', u'TERMINATED'),\n",
       " (u'acer3', u'TERMINATED'),\n",
       " (u'acer4', u'TERMINATED'),\n",
       " (u'acid1', u'TERMINATED'),\n",
       " (u'acid2', u'TERMINATED'),\n",
       " (u'acid3', u'TERMINATED'),\n",
       " (u'acid4', u'TERMINATED'),\n",
       " (u'acmay1', u'TERMINATED'),\n",
       " (u'acmay2', u'TERMINATED'),\n",
       " (u'acmay3', u'TERMINATED'),\n",
       " (u'acmay4', u'TERMINATED'),\n",
       " (u'acre1', u'TERMINATED'),\n",
       " (u'acre2', u'TERMINATED'),\n",
       " (u'acre3', u'TERMINATED'),\n",
       " (u'acre4', u'TERMINATED'),\n",
       " (u'amber1', u'TERMINATED'),\n",
       " (u'amber2', u'TERMINATED'),\n",
       " (u'amber3', u'TERMINATED'),\n",
       " (u'amber4', u'TERMINATED'),\n",
       " (u'ambrose1', u'TERMINATED'),\n",
       " (u'ambrose3', u'TERMINATED'),\n",
       " (u'bravo3', u'TERMINATED'),\n",
       " (u'bravo4', u'TERMINATED'),\n",
       " (u'bravo5', u'TERMINATED'),\n",
       " (u'fpmmnp1', u'RUNNING'),\n",
       " (u'gguhgn1', u'RUNNING'),\n",
       " (u'hijwcf1', u'RUNNING'),\n",
       " (u'hijwcf2', u'RUNNING'),\n",
       " (u'hijwcf3', u'RUNNING'),\n",
       " (u'hijwcf4', u'RUNNING'),\n",
       " (u'instance-1', u'TERMINATED'),\n",
       " (u'instance-2', u'TERMINATED'),\n",
       " (u'instance-3', u'TERMINATED'),\n",
       " (u'instance-5', u'TERMINATED'),\n",
       " (u'ubslurm1', u'RUNNING'),\n",
       " (u'ubslurm2', u'TERMINATED'),\n",
       " (u'ukzhls1', u'RUNNING'),\n",
       " (u'ukzhls2', u'RUNNING'),\n",
       " (u'ukzhls3', u'RUNNING'),\n",
       " (u'ukzhls4', u'RUNNING'),\n",
       " (u'wbxeuy1', u'RUNNING'),\n",
       " (u'wbxeuy10', u'RUNNING'),\n",
       " (u'wbxeuy11', u'TERMINATED'),\n",
       " (u'wbxeuy12', u'RUNNING'),\n",
       " (u'wbxeuy13', u'TERMINATED'),\n",
       " (u'wbxeuy14', u'RUNNING'),\n",
       " (u'wbxeuy15', u'TERMINATED'),\n",
       " (u'wbxeuy16', u'RUNNING'),\n",
       " (u'wbxeuy17', u'RUNNING'),\n",
       " (u'wbxeuy18', u'RUNNING'),\n",
       " (u'wbxeuy19', u'RUNNING'),\n",
       " (u'wbxeuy2', u'RUNNING'),\n",
       " (u'wbxeuy20', u'TERMINATED'),\n",
       " (u'wbxeuy21', u'RUNNING'),\n",
       " (u'wbxeuy22', u'TERMINATED'),\n",
       " (u'wbxeuy23', u'RUNNING'),\n",
       " (u'wbxeuy24', u'RUNNING'),\n",
       " (u'wbxeuy3', u'RUNNING'),\n",
       " (u'wbxeuy4', u'TERMINATED'),\n",
       " (u'wbxeuy5', u'RUNNING'),\n",
       " (u'wbxeuy6', u'TERMINATED'),\n",
       " (u'wbxeuy7', u'RUNNING'),\n",
       " (u'wbxeuy8', u'RUNNING'),\n",
       " (u'wbxeuy9', u'RUNNING'),\n",
       " (u'xteugf1', u'RUNNING'),\n",
       " (u'xteugf2', u'TERMINATED'),\n",
       " (u'xteugf3', u'RUNNING'),\n",
       " (u'xteugf4', u'TERMINATED'),\n",
       " (u'yqbthf1', u'RUNNING'),\n",
       " (u'yqbthf10', u'RUNNING'),\n",
       " (u'yqbthf11', u'RUNNING'),\n",
       " (u'yqbthf12', u'RUNNING'),\n",
       " (u'yqbthf13', u'RUNNING'),\n",
       " (u'yqbthf14', u'RUNNING'),\n",
       " (u'yqbthf15', u'RUNNING'),\n",
       " (u'yqbthf16', u'RUNNING'),\n",
       " (u'yqbthf17', u'RUNNING'),\n",
       " (u'yqbthf18', u'RUNNING'),\n",
       " (u'yqbthf19', u'RUNNING'),\n",
       " (u'yqbthf2', u'RUNNING'),\n",
       " (u'yqbthf20', u'TERMINATED'),\n",
       " (u'yqbthf21', u'TERMINATED'),\n",
       " (u'yqbthf22', u'RUNNING'),\n",
       " (u'yqbthf23', u'RUNNING'),\n",
       " (u'yqbthf24', u'RUNNING'),\n",
       " (u'yqbthf25', u'RUNNING'),\n",
       " (u'yqbthf26', u'RUNNING'),\n",
       " (u'yqbthf27', u'RUNNING'),\n",
       " (u'yqbthf28', u'RUNNING'),\n",
       " (u'yqbthf29', u'RUNNING'),\n",
       " (u'yqbthf3', u'TERMINATED'),\n",
       " (u'yqbthf30', u'RUNNING'),\n",
       " (u'yqbthf31', u'RUNNING'),\n",
       " (u'yqbthf32', u'RUNNING'),\n",
       " (u'yqbthf4', u'RUNNING'),\n",
       " (u'yqbthf5', u'TERMINATED'),\n",
       " (u'yqbthf6', u'RUNNING'),\n",
       " (u'yqbthf7', u'TERMINATED'),\n",
       " (u'yqbthf8', u'RUNNING'),\n",
       " (u'yqbthf9', u'RUNNING')]"
      ]
     },
     "execution_count": 44,
     "metadata": {},
     "output_type": "execute_result"
    }
   ],
   "source": [
    "[(x['name'], x['status']) for x in alist['items']]"
   ]
  },
  {
   "cell_type": "code",
   "execution_count": 34,
   "metadata": {},
   "outputs": [
    {
     "data": {
      "text/plain": [
       "u'RUNNING'"
      ]
     },
     "execution_count": 34,
     "metadata": {},
     "output_type": "execute_result"
    }
   ],
   "source": [
    "ilist['items'][0]['status']"
   ]
  },
  {
   "cell_type": "code",
   "execution_count": 10,
   "metadata": {
    "collapsed": true
   },
   "outputs": [],
   "source": [
    "projects=compute.projects()"
   ]
  },
  {
   "cell_type": "code",
   "execution_count": 13,
   "metadata": {},
   "outputs": [
    {
     "data": {
      "text/plain": [
       "<googleapiclient.http.HttpRequest at 0x7f975c351c50>"
      ]
     },
     "execution_count": 13,
     "metadata": {},
     "output_type": "execute_result"
    }
   ],
   "source": [
    "projects.get(project='first')"
   ]
  },
  {
   "cell_type": "code",
   "execution_count": 21,
   "metadata": {
    "collapsed": true
   },
   "outputs": [],
   "source": [
    "disks = compute.disks()\n"
   ]
  },
  {
   "cell_type": "code",
   "execution_count": 51,
   "metadata": {},
   "outputs": [
    {
     "data": {
      "text/plain": [
       "{u'id': u'projects/first-220321/zones/us-central1-f/disks',\n",
       " u'items': [{u'creationTimestamp': u'2019-02-18T08:31:24.870-08:00',\n",
       "   u'description': u'from python api',\n",
       "   u'guestOsFeatures': [{u'type': u'VIRTIO_SCSI_MULTIQUEUE'}],\n",
       "   u'id': u'7655036994015683379',\n",
       "   u'kind': u'compute#disk',\n",
       "   u'labelFingerprint': u'42WmSpB8rSM=',\n",
       "   u'licenseCodes': [u'5926592092274602096'],\n",
       "   u'licenses': [u'https://www.googleapis.com/compute/v1/projects/ubuntu-os-cloud/global/licenses/ubuntu-1804-lts'],\n",
       "   u'name': u'disk-2',\n",
       "   u'physicalBlockSizeBytes': u'4096',\n",
       "   u'selfLink': u'https://www.googleapis.com/compute/v1/projects/first-220321/zones/us-central1-f/disks/disk-2',\n",
       "   u'sizeGb': u'40',\n",
       "   u'sourceSnapshot': u'https://www.googleapis.com/compute/v1/projects/first-220321/global/snapshots/snapshot-5',\n",
       "   u'sourceSnapshotId': u'2120622353497955023',\n",
       "   u'status': u'RESTORING',\n",
       "   u'type': u'https://www.googleapis.com/compute/v1/projects/first-220321/zones/us-central1-f/diskTypes/pd-standard',\n",
       "   u'zone': u'https://www.googleapis.com/compute/v1/projects/first-220321/zones/us-central1-f'}],\n",
       " u'kind': u'compute#diskList',\n",
       " u'selfLink': u'https://www.googleapis.com/compute/v1/projects/first-220321/zones/us-central1-f/disks'}"
      ]
     },
     "execution_count": 51,
     "metadata": {},
     "output_type": "execute_result"
    }
   ],
   "source": [
    "disks.list(project='first-220321',zone='us-central1-f').execute()"
   ]
  },
  {
   "cell_type": "code",
   "execution_count": 25,
   "metadata": {
    "collapsed": true
   },
   "outputs": [],
   "source": [
    "snapshots = compute.snapshots()"
   ]
  },
  {
   "cell_type": "code",
   "execution_count": 34,
   "metadata": {},
   "outputs": [
    {
     "data": {
      "text/plain": [
       "{u'id': u'projects/first-220321/global/snapshots',\n",
       " u'items': [{u'creationTimestamp': u'2019-01-30T12:24:27.199-08:00',\n",
       "   u'description': u'with mpirun',\n",
       "   u'diskSizeGb': u'40',\n",
       "   u'id': u'4224826560948975893',\n",
       "   u'kind': u'compute#snapshot',\n",
       "   u'labelFingerprint': u'42WmSpB8rSM=',\n",
       "   u'licenseCodes': [u'5926592092274602096'],\n",
       "   u'licenses': [u'https://www.googleapis.com/compute/v1/projects/ubuntu-os-cloud/global/licenses/ubuntu-1804-lts'],\n",
       "   u'name': u'snapshot-2',\n",
       "   u'selfLink': u'https://www.googleapis.com/compute/v1/projects/first-220321/global/snapshots/snapshot-2',\n",
       "   u'sourceDisk': u'https://www.googleapis.com/compute/v1/projects/first-220321/zones/us-east1-b/disks/instance-1',\n",
       "   u'sourceDiskId': u'6966381632835839135',\n",
       "   u'status': u'READY',\n",
       "   u'storageBytes': u'3212106880',\n",
       "   u'storageBytesStatus': u'UP_TO_DATE'},\n",
       "  {u'creationTimestamp': u'2019-01-30T12:34:28.683-08:00',\n",
       "   u'diskSizeGb': u'40',\n",
       "   u'id': u'3901213999399679163',\n",
       "   u'kind': u'compute#snapshot',\n",
       "   u'labelFingerprint': u'42WmSpB8rSM=',\n",
       "   u'licenseCodes': [u'5926592092274602096'],\n",
       "   u'licenses': [u'https://www.googleapis.com/compute/v1/projects/ubuntu-os-cloud/global/licenses/ubuntu-1804-lts'],\n",
       "   u'name': u'snapshot-3',\n",
       "   u'selfLink': u'https://www.googleapis.com/compute/v1/projects/first-220321/global/snapshots/snapshot-3',\n",
       "   u'sourceDisk': u'https://www.googleapis.com/compute/v1/projects/first-220321/zones/us-east1-b/disks/instance-1',\n",
       "   u'sourceDiskId': u'6966381632835839135',\n",
       "   u'status': u'READY',\n",
       "   u'storageBytes': u'3212121472',\n",
       "   u'storageBytesStatus': u'UP_TO_DATE'},\n",
       "  {u'creationTimestamp': u'2019-01-30T13:35:34.167-08:00',\n",
       "   u'diskSizeGb': u'40',\n",
       "   u'id': u'5130654186085525066',\n",
       "   u'kind': u'compute#snapshot',\n",
       "   u'labelFingerprint': u'42WmSpB8rSM=',\n",
       "   u'licenseCodes': [u'5926592092274602096'],\n",
       "   u'licenses': [u'https://www.googleapis.com/compute/v1/projects/ubuntu-os-cloud/global/licenses/ubuntu-1804-lts'],\n",
       "   u'name': u'snapshot-4',\n",
       "   u'selfLink': u'https://www.googleapis.com/compute/v1/projects/first-220321/global/snapshots/snapshot-4',\n",
       "   u'sourceDisk': u'https://www.googleapis.com/compute/v1/projects/first-220321/zones/us-east1-b/disks/instance-1',\n",
       "   u'sourceDiskId': u'6966381632835839135',\n",
       "   u'status': u'READY',\n",
       "   u'storageBytes': u'26570240',\n",
       "   u'storageBytesStatus': u'UP_TO_DATE'},\n",
       "  {u'creationTimestamp': u'2019-01-30T14:24:33.446-08:00',\n",
       "   u'diskSizeGb': u'40',\n",
       "   u'id': u'2120622353497955023',\n",
       "   u'kind': u'compute#snapshot',\n",
       "   u'labelFingerprint': u'42WmSpB8rSM=',\n",
       "   u'licenseCodes': [u'5926592092274602096'],\n",
       "   u'licenses': [u'https://www.googleapis.com/compute/v1/projects/ubuntu-os-cloud/global/licenses/ubuntu-1804-lts'],\n",
       "   u'name': u'snapshot-5',\n",
       "   u'selfLink': u'https://www.googleapis.com/compute/v1/projects/first-220321/global/snapshots/snapshot-5',\n",
       "   u'sourceDisk': u'https://www.googleapis.com/compute/v1/projects/first-220321/zones/us-east1-b/disks/instance-1',\n",
       "   u'sourceDiskId': u'6966381632835839135',\n",
       "   u'status': u'READY',\n",
       "   u'storageBytes': u'142043008',\n",
       "   u'storageBytesStatus': u'UP_TO_DATE'}],\n",
       " u'kind': u'compute#snapshotList',\n",
       " u'selfLink': u'https://www.googleapis.com/compute/v1/projects/first-220321/global/snapshots'}"
      ]
     },
     "execution_count": 34,
     "metadata": {},
     "output_type": "execute_result"
    }
   ],
   "source": [
    "snapshots.list(project=project).execute()"
   ]
  },
  {
   "cell_type": "code",
   "execution_count": 33,
   "metadata": {},
   "outputs": [
    {
     "name": "stdout",
     "output_type": "stream",
     "text": [
      "Help on method method in module googleapiclient.discovery:\n",
      "\n",
      "method(self, **kwargs) method of googleapiclient.discovery.Resource instance\n",
      "    Creates a snapshot of a specified persistent disk.\n",
      "    \n",
      "    Args:\n",
      "      project: string, Project ID for this request. (required)\n",
      "      zone: string, The name of the zone for this request. (required)\n",
      "      disk: string, Name of the persistent disk to snapshot. (required)\n",
      "      body: object, The request body. (required)\n",
      "        The object takes the form of:\n",
      "    \n",
      "    { # A persistent disk snapshot resource. (== resource_for beta.snapshots ==) (== resource_for v1.snapshots ==)\n",
      "        \"status\": \"A String\", # [Output Only] The status of the snapshot. This can be CREATING, DELETING, FAILED, READY, or UPLOADING.\n",
      "        \"kind\": \"compute#snapshot\", # [Output Only] Type of the resource. Always compute#snapshot for Snapshot resources.\n",
      "        \"sourceDiskEncryptionKey\": { # Represents a customer-supplied encryption key # The customer-supplied encryption key of the source disk. Required if the source disk is protected by a customer-supplied encryption key.\n",
      "          \"rawKey\": \"A String\", # Specifies a 256-bit customer-supplied encryption key, encoded in RFC 4648 base64 to either encrypt or decrypt this resource.\n",
      "          \"sha256\": \"A String\", # [Output only] The RFC 4648 base64 encoded SHA-256 hash of the customer-supplied encryption key that protects this resource.\n",
      "          \"kmsKeyName\": \"A String\", # The name of the encryption key that is stored in Google Cloud KMS.\n",
      "        },\n",
      "        \"storageBytes\": \"A String\", # [Output Only] A size of the storage used by the snapshot. As snapshots share storage, this number is expected to change with snapshot creation/deletion.\n",
      "        \"description\": \"A String\", # An optional description of this resource. Provide this property when you create the resource.\n",
      "        \"sourceDisk\": \"A String\", # [Output Only] The source disk used to create this snapshot.\n",
      "        \"snapshotEncryptionKey\": { # Represents a customer-supplied encryption key # Encrypts the snapshot using a customer-supplied encryption key.\n",
      "            # \n",
      "            # After you encrypt a snapshot using a customer-supplied key, you must provide the same key if you use the image later For example, you must provide the encryption key when you create a disk from the encrypted snapshot in a future request.\n",
      "            # \n",
      "            # Customer-supplied encryption keys do not protect access to metadata of the disk.\n",
      "            # \n",
      "            # If you do not provide an encryption key when creating the snapshot, then the snapshot will be encrypted using an automatically generated key and you do not need to provide a key to use the snapshot later.\n",
      "          \"rawKey\": \"A String\", # Specifies a 256-bit customer-supplied encryption key, encoded in RFC 4648 base64 to either encrypt or decrypt this resource.\n",
      "          \"sha256\": \"A String\", # [Output only] The RFC 4648 base64 encoded SHA-256 hash of the customer-supplied encryption key that protects this resource.\n",
      "          \"kmsKeyName\": \"A String\", # The name of the encryption key that is stored in Google Cloud KMS.\n",
      "        },\n",
      "        \"storageBytesStatus\": \"A String\", # [Output Only] An indicator whether storageBytes is in a stable state or it is being adjusted as a result of shared storage reallocation. This status can either be UPDATING, meaning the size of the snapshot is being updated, or UP_TO_DATE, meaning the size of the snapshot is up-to-date.\n",
      "        \"labelFingerprint\": \"A String\", # A fingerprint for the labels being applied to this snapshot, which is essentially a hash of the labels set used for optimistic locking. The fingerprint is initially generated by Compute Engine and changes after every request to modify or update labels. You must always provide an up-to-date fingerprint hash in order to update or change labels, otherwise the request will fail with error 412 conditionNotMet.\n",
      "            # \n",
      "            # To see the latest fingerprint, make a get() request to retrieve a snapshot.\n",
      "        \"labels\": { # Labels to apply to this snapshot. These can be later modified by the setLabels method. Label values may be empty.\n",
      "          \"a_key\": \"A String\",\n",
      "        },\n",
      "        \"name\": \"A String\", # Name of the resource; provided by the client when the resource is created. The name must be 1-63 characters long, and comply with RFC1035. Specifically, the name must be 1-63 characters long and match the regular expression `[a-z]([-a-z0-9]*[a-z0-9])?` which means the first character must be a lowercase letter, and all following characters must be a dash, lowercase letter, or digit, except the last character, which cannot be a dash.\n",
      "        \"diskSizeGb\": \"A String\", # [Output Only] Size of the snapshot, specified in GB.\n",
      "        \"licenses\": [ # [Output Only] A list of public visible licenses that apply to this snapshot. This can be because the original image had licenses attached (such as a Windows image).\n",
      "          \"A String\",\n",
      "        ],\n",
      "        \"sourceDiskId\": \"A String\", # [Output Only] The ID value of the disk used to create this snapshot. This value may be used to determine whether the snapshot was taken from the current or a previous instance of a given disk name.\n",
      "        \"creationTimestamp\": \"A String\", # [Output Only] Creation timestamp in RFC3339 text format.\n",
      "        \"id\": \"A String\", # [Output Only] The unique identifier for the resource. This identifier is defined by the server.\n",
      "        \"selfLink\": \"A String\", # [Output Only] Server-defined URL for the resource.\n",
      "        \"licenseCodes\": [ # [Output Only] Integer license codes indicating which licenses are attached to this snapshot.\n",
      "          \"A String\",\n",
      "        ],\n",
      "      }\n",
      "    \n",
      "      guestFlush: boolean, A parameter\n",
      "      requestId: string, An optional request ID to identify requests. Specify a unique request ID so that if you must retry your request, the server will know to ignore the request if it has already been completed.\n",
      "    \n",
      "    For example, consider a situation where you make an initial request and the request times out. If you make the request again with the same request ID, the server can check if original operation with the same request ID was received, and if so, will ignore the second request. This prevents clients from accidentally creating duplicate commitments.\n",
      "    \n",
      "    The request ID must be a valid UUID with the exception that zero UUID is not supported (00000000-0000-0000-0000-000000000000).\n",
      "    \n",
      "    Returns:\n",
      "      An object of the form:\n",
      "    \n",
      "        { # An Operation resource, used to manage asynchronous API requests. (== resource_for v1.globalOperations ==) (== resource_for beta.globalOperations ==) (== resource_for v1.regionOperations ==) (== resource_for beta.regionOperations ==) (== resource_for v1.zoneOperations ==) (== resource_for beta.zoneOperations ==)\n",
      "        \"targetId\": \"A String\", # [Output Only] The unique target ID, which identifies a specific incarnation of the target resource.\n",
      "        \"clientOperationId\": \"A String\", # [Output Only] The value of `requestId` if you provided it in the request. Not present otherwise.\n",
      "        \"creationTimestamp\": \"A String\", # [Deprecated] This field is deprecated.\n",
      "        \"id\": \"A String\", # [Output Only] The unique identifier for the resource. This identifier is defined by the server.\n",
      "        \"zone\": \"A String\", # [Output Only] The URL of the zone where the operation resides. Only available when performing per-zone operations. You must specify this field as part of the HTTP request URL. It is not settable as a field in the request body.\n",
      "        \"insertTime\": \"A String\", # [Output Only] The time that this operation was requested. This value is in RFC3339 text format.\n",
      "        \"operationType\": \"A String\", # [Output Only] The type of operation, such as insert, update, or delete, and so on.\n",
      "        \"httpErrorMessage\": \"A String\", # [Output Only] If the operation fails, this field contains the HTTP error message that was returned, such as NOT FOUND.\n",
      "        \"progress\": 42, # [Output Only] An optional progress indicator that ranges from 0 to 100. There is no requirement that this be linear or support any granularity of operations. This should not be used to guess when the operation will be complete. This number should monotonically increase as the operation progresses.\n",
      "        \"httpErrorStatusCode\": 42, # [Output Only] If the operation fails, this field contains the HTTP error status code that was returned. For example, a 404 means the resource was not found.\n",
      "        \"statusMessage\": \"A String\", # [Output Only] An optional textual description of the current status of the operation.\n",
      "        \"status\": \"A String\", # [Output Only] The status of the operation, which can be one of the following: PENDING, RUNNING, or DONE.\n",
      "        \"description\": \"A String\", # [Output Only] A textual description of the operation, which is set when the operation is created.\n",
      "        \"warnings\": [ # [Output Only] If warning messages are generated during processing of the operation, this field will be populated.\n",
      "          {\n",
      "            \"message\": \"A String\", # [Output Only] A human-readable description of the warning code.\n",
      "            \"code\": \"A String\", # [Output Only] A warning code, if applicable. For example, Compute Engine returns NO_RESULTS_ON_PAGE if there are no results in the response.\n",
      "            \"data\": [ # [Output Only] Metadata about this warning in key: value format. For example:\n",
      "                # \"data\": [ { \"key\": \"scope\", \"value\": \"zones/us-east1-d\" }\n",
      "              {\n",
      "                \"value\": \"A String\", # [Output Only] A warning data value corresponding to the key.\n",
      "                \"key\": \"A String\", # [Output Only] A key that provides more detail on the warning being returned. For example, for warnings where there are no results in a list request for a particular zone, this key might be scope and the key value might be the zone name. Other examples might be a key indicating a deprecated resource and a suggested replacement, or a warning about invalid network settings (for example, if an instance attempts to perform IP forwarding but is not enabled for IP forwarding).\n",
      "              },\n",
      "            ],\n",
      "          },\n",
      "        ],\n",
      "        \"user\": \"A String\", # [Output Only] User who requested the operation, for example: user@example.com.\n",
      "        \"startTime\": \"A String\", # [Output Only] The time that this operation was started by the server. This value is in RFC3339 text format.\n",
      "        \"kind\": \"compute#operation\", # [Output Only] Type of the resource. Always compute#operation for Operation resources.\n",
      "        \"name\": \"A String\", # [Output Only] Name of the resource.\n",
      "        \"region\": \"A String\", # [Output Only] The URL of the region where the operation resides. Only available when performing regional operations. You must specify this field as part of the HTTP request URL. It is not settable as a field in the request body.\n",
      "        \"error\": { # [Output Only] If errors are generated during processing of the operation, this field will be populated.\n",
      "          \"errors\": [ # [Output Only] The array of errors encountered while processing this operation.\n",
      "            {\n",
      "              \"message\": \"A String\", # [Output Only] An optional, human-readable error message.\n",
      "              \"code\": \"A String\", # [Output Only] The error type identifier for this error.\n",
      "              \"location\": \"A String\", # [Output Only] Indicates the field in the request that caused the error. This property is optional.\n",
      "            },\n",
      "          ],\n",
      "        },\n",
      "        \"endTime\": \"A String\", # [Output Only] The time that this operation was completed. This value is in RFC3339 text format.\n",
      "        \"selfLink\": \"A String\", # [Output Only] Server-defined URL for the resource.\n",
      "        \"targetLink\": \"A String\", # [Output Only] The URL of the resource that the operation modifies. For operations related to creating a snapshot, this points to the persistent disk that the snapshot was created from.\n",
      "      }\n",
      "\n"
     ]
    }
   ],
   "source": [
    "help(disks.createSnapshot)"
   ]
  },
  {
   "cell_type": "code",
   "execution_count": 49,
   "metadata": {
    "collapsed": true
   },
   "outputs": [],
   "source": [
    "disk_body={\n",
    " 'sourceSnapshot':'global/snapshots/snapshot-5',\n",
    " 'name':'disk-2', \n",
    " 'description':'from python api',\n",
    "# 'type':'{}/zones/{}/diskTypes/pd-standard'.format(project,zc)\n",
    "}"
   ]
  },
  {
   "cell_type": "code",
   "execution_count": 50,
   "metadata": {},
   "outputs": [
    {
     "data": {
      "text/plain": [
       "{u'id': u'8254100303772082995',\n",
       " u'insertTime': u'2019-02-18T08:31:24.906-08:00',\n",
       " u'kind': u'compute#operation',\n",
       " u'name': u'operation-1550507484174-5822da7d0d8d4-e2919f8f-afe303d2',\n",
       " u'operationType': u'insert',\n",
       " u'progress': 0,\n",
       " u'selfLink': u'https://www.googleapis.com/compute/v1/projects/first-220321/zones/us-central1-f/operations/operation-1550507484174-5822da7d0d8d4-e2919f8f-afe303d2',\n",
       " u'status': u'PENDING',\n",
       " u'targetId': u'7655036994015683379',\n",
       " u'targetLink': u'https://www.googleapis.com/compute/v1/projects/first-220321/zones/us-central1-f/disks/disk-2',\n",
       " u'user': u'prateeks@first-220321.iam.gserviceaccount.com',\n",
       " u'zone': u'https://www.googleapis.com/compute/v1/projects/first-220321/zones/us-central1-f'}"
      ]
     },
     "execution_count": 50,
     "metadata": {},
     "output_type": "execute_result"
    }
   ],
   "source": [
    "disks.insert(project=project, zone=zc, body=disk_body).execute()"
   ]
  },
  {
   "cell_type": "code",
   "execution_count": 36,
   "metadata": {},
   "outputs": [
    {
     "name": "stdout",
     "output_type": "stream",
     "text": [
      "Help on method method in module googleapiclient.discovery:\n",
      "\n",
      "method(self, **kwargs) method of googleapiclient.discovery.Resource instance\n",
      "    Creates a persistent disk in the specified project using the data in the request. You can create a disk with a sourceImage, a sourceSnapshot, or create an empty 500 GB data disk by omitting all properties. You can also create a disk that is larger than the default size by specifying the sizeGb property.\n",
      "    \n",
      "    Args:\n",
      "      project: string, Project ID for this request. (required)\n",
      "      zone: string, The name of the zone for this request. (required)\n",
      "      body: object, The request body. (required)\n",
      "        The object takes the form of:\n",
      "    \n",
      "    { # A Disk resource. (== resource_for beta.disks ==) (== resource_for v1.disks ==)\n",
      "        \"sourceImageEncryptionKey\": { # Represents a customer-supplied encryption key # The customer-supplied encryption key of the source image. Required if the source image is protected by a customer-supplied encryption key.\n",
      "          \"rawKey\": \"A String\", # Specifies a 256-bit customer-supplied encryption key, encoded in RFC 4648 base64 to either encrypt or decrypt this resource.\n",
      "          \"sha256\": \"A String\", # [Output only] The RFC 4648 base64 encoded SHA-256 hash of the customer-supplied encryption key that protects this resource.\n",
      "          \"kmsKeyName\": \"A String\", # The name of the encryption key that is stored in Google Cloud KMS.\n",
      "        },\n",
      "        \"labels\": { # Labels to apply to this disk. These can be later modified by the setLabels method.\n",
      "          \"a_key\": \"A String\",\n",
      "        },\n",
      "        \"guestOsFeatures\": [ # A list of features to enable on the guest operating system. Applicable only for bootable images. Read  Enabling guest operating system features to see a list of available options.\n",
      "          { # Guest OS features.\n",
      "            \"type\": \"A String\", # The ID of a supported feature. Read  Enabling guest operating system features to see a list of available options.\n",
      "          },\n",
      "        ],\n",
      "        \"licenses\": [ # A list of publicly visible licenses. Reserved for Google's use.\n",
      "          \"A String\",\n",
      "        ],\n",
      "        \"creationTimestamp\": \"A String\", # [Output Only] Creation timestamp in RFC3339 text format.\n",
      "        \"id\": \"A String\", # [Output Only] The unique identifier for the resource. This identifier is defined by the server.\n",
      "        \"licenseCodes\": [ # Integer license codes indicating which licenses are attached to this disk.\n",
      "          \"A String\",\n",
      "        ],\n",
      "        \"diskEncryptionKey\": { # Represents a customer-supplied encryption key # Encrypts the disk using a customer-supplied encryption key.\n",
      "            # \n",
      "            # After you encrypt a disk with a customer-supplied key, you must provide the same key if you use the disk later (e.g. to create a disk snapshot or an image, or to attach the disk to a virtual machine).\n",
      "            # \n",
      "            # Customer-supplied encryption keys do not protect access to metadata of the disk.\n",
      "            # \n",
      "            # If you do not provide an encryption key when creating the disk, then the disk will be encrypted using an automatically generated key and you do not need to provide a key to use the disk later.\n",
      "          \"rawKey\": \"A String\", # Specifies a 256-bit customer-supplied encryption key, encoded in RFC 4648 base64 to either encrypt or decrypt this resource.\n",
      "          \"sha256\": \"A String\", # [Output only] The RFC 4648 base64 encoded SHA-256 hash of the customer-supplied encryption key that protects this resource.\n",
      "          \"kmsKeyName\": \"A String\", # The name of the encryption key that is stored in Google Cloud KMS.\n",
      "        },\n",
      "        \"zone\": \"A String\", # [Output Only] URL of the zone where the disk resides. You must specify this field as part of the HTTP request URL. It is not settable as a field in the request body.\n",
      "        \"physicalBlockSizeBytes\": \"A String\", # Physical block size of the persistent disk, in bytes. If not present in a request, a default value is used. Currently supported sizes are 4096 and 16384, other sizes may be added in the future. If an unsupported value is requested, the error message will list the supported values for the caller's project.\n",
      "        \"lastAttachTimestamp\": \"A String\", # [Output Only] Last attach timestamp in RFC3339 text format.\n",
      "        \"type\": \"A String\", # URL of the disk type resource describing which disk type to use to create the disk. Provide this when creating the disk. For example: project/zones/zone/diskTypes/pd-standard or pd-ssd\n",
      "        \"status\": \"A String\", # [Output Only] The status of disk creation.\n",
      "        \"sourceSnapshot\": \"A String\", # The source snapshot used to create this disk. You can provide this as a partial or full URL to the resource. For example, the following are valid values:\n",
      "            # - https://www.googleapis.com/compute/v1/projects/project/global/snapshots/snapshot\n",
      "            # - projects/project/global/snapshots/snapshot\n",
      "            # - global/snapshots/snapshot\n",
      "        \"lastDetachTimestamp\": \"A String\", # [Output Only] Last detach timestamp in RFC3339 text format.\n",
      "        \"description\": \"A String\", # An optional description of this resource. Provide this property when you create the resource.\n",
      "        \"labelFingerprint\": \"A String\", # A fingerprint for the labels being applied to this disk, which is essentially a hash of the labels set used for optimistic locking. The fingerprint is initially generated by Compute Engine and changes after every request to modify or update labels. You must always provide an up-to-date fingerprint hash in order to update or change labels, otherwise the request will fail with error 412 conditionNotMet.\n",
      "            # \n",
      "            # To see the latest fingerprint, make a get() request to retrieve a disk.\n",
      "        \"sourceImageId\": \"A String\", # [Output Only] The ID value of the image used to create this disk. This value identifies the exact image that was used to create this persistent disk. For example, if you created the persistent disk from an image that was later deleted and recreated under the same name, the source image ID would identify the exact version of the image that was used.\n",
      "        \"replicaZones\": [ # URLs of the zones where the disk should be replicated to. Only applicable for regional resources.\n",
      "          \"A String\",\n",
      "        ],\n",
      "        \"sourceSnapshotId\": \"A String\", # [Output Only] The unique ID of the snapshot used to create this disk. This value identifies the exact snapshot that was used to create this persistent disk. For example, if you created the persistent disk from a snapshot that was later deleted and recreated under the same name, the source snapshot ID would identify the exact version of the snapshot that was used.\n",
      "        \"users\": [ # [Output Only] Links to the users of the disk (attached instances) in form: project/zones/zone/instances/instance\n",
      "          \"A String\",\n",
      "        ],\n",
      "        \"kind\": \"compute#disk\", # [Output Only] Type of the resource. Always compute#disk for disks.\n",
      "        \"name\": \"A String\", # Name of the resource. Provided by the client when the resource is created. The name must be 1-63 characters long, and comply with RFC1035. Specifically, the name must be 1-63 characters long and match the regular expression `[a-z]([-a-z0-9]*[a-z0-9])?` which means the first character must be a lowercase letter, and all following characters must be a dash, lowercase letter, or digit, except the last character, which cannot be a dash.\n",
      "        \"sizeGb\": \"A String\", # Size of the persistent disk, specified in GB. You can specify this field when creating a persistent disk using the sourceImage or sourceSnapshot parameter, or specify it alone to create an empty persistent disk.\n",
      "            # \n",
      "            # If you specify this field along with sourceImage or sourceSnapshot, the value of sizeGb must not be less than the size of the sourceImage or the size of the snapshot. Acceptable values are 1 to 65536, inclusive.\n",
      "        \"region\": \"A String\", # [Output Only] URL of the region where the disk resides. Only applicable for regional resources. You must specify this field as part of the HTTP request URL. It is not settable as a field in the request body.\n",
      "        \"sourceSnapshotEncryptionKey\": { # Represents a customer-supplied encryption key # The customer-supplied encryption key of the source snapshot. Required if the source snapshot is protected by a customer-supplied encryption key.\n",
      "          \"rawKey\": \"A String\", # Specifies a 256-bit customer-supplied encryption key, encoded in RFC 4648 base64 to either encrypt or decrypt this resource.\n",
      "          \"sha256\": \"A String\", # [Output only] The RFC 4648 base64 encoded SHA-256 hash of the customer-supplied encryption key that protects this resource.\n",
      "          \"kmsKeyName\": \"A String\", # The name of the encryption key that is stored in Google Cloud KMS.\n",
      "        },\n",
      "        \"options\": \"A String\", # Internal use only.\n",
      "        \"selfLink\": \"A String\", # [Output Only] Server-defined fully-qualified URL for this resource.\n",
      "        \"sourceImage\": \"A String\", # The source image used to create this disk. If the source image is deleted, this field will not be set.\n",
      "            # \n",
      "            # To create a disk with one of the public operating system images, specify the image by its family name. For example, specify family/debian-9 to use the latest Debian 9 image:\n",
      "            # projects/debian-cloud/global/images/family/debian-9\n",
      "            # \n",
      "            # \n",
      "            # Alternatively, use a specific version of a public operating system image:\n",
      "            # projects/debian-cloud/global/images/debian-9-stretch-vYYYYMMDD\n",
      "            # \n",
      "            # \n",
      "            # To create a disk with a custom image that you created, specify the image name in the following format:\n",
      "            # global/images/my-custom-image\n",
      "            # \n",
      "            # \n",
      "            # You can also specify a custom image by its image family, which returns the latest version of the image in that family. Replace the image name with family/family-name:\n",
      "            # global/images/family/my-image-family\n",
      "      }\n",
      "    \n",
      "      requestId: string, An optional request ID to identify requests. Specify a unique request ID so that if you must retry your request, the server will know to ignore the request if it has already been completed.\n",
      "    \n",
      "    For example, consider a situation where you make an initial request and the request times out. If you make the request again with the same request ID, the server can check if original operation with the same request ID was received, and if so, will ignore the second request. This prevents clients from accidentally creating duplicate commitments.\n",
      "    \n",
      "    The request ID must be a valid UUID with the exception that zero UUID is not supported (00000000-0000-0000-0000-000000000000).\n",
      "      sourceImage: string, Optional. Source image to restore onto a disk.\n",
      "    \n",
      "    Returns:\n",
      "      An object of the form:\n",
      "    \n",
      "        { # An Operation resource, used to manage asynchronous API requests. (== resource_for v1.globalOperations ==) (== resource_for beta.globalOperations ==) (== resource_for v1.regionOperations ==) (== resource_for beta.regionOperations ==) (== resource_for v1.zoneOperations ==) (== resource_for beta.zoneOperations ==)\n",
      "        \"targetId\": \"A String\", # [Output Only] The unique target ID, which identifies a specific incarnation of the target resource.\n",
      "        \"clientOperationId\": \"A String\", # [Output Only] The value of `requestId` if you provided it in the request. Not present otherwise.\n",
      "        \"creationTimestamp\": \"A String\", # [Deprecated] This field is deprecated.\n",
      "        \"id\": \"A String\", # [Output Only] The unique identifier for the resource. This identifier is defined by the server.\n",
      "        \"zone\": \"A String\", # [Output Only] The URL of the zone where the operation resides. Only available when performing per-zone operations. You must specify this field as part of the HTTP request URL. It is not settable as a field in the request body.\n",
      "        \"insertTime\": \"A String\", # [Output Only] The time that this operation was requested. This value is in RFC3339 text format.\n",
      "        \"operationType\": \"A String\", # [Output Only] The type of operation, such as insert, update, or delete, and so on.\n",
      "        \"httpErrorMessage\": \"A String\", # [Output Only] If the operation fails, this field contains the HTTP error message that was returned, such as NOT FOUND.\n",
      "        \"progress\": 42, # [Output Only] An optional progress indicator that ranges from 0 to 100. There is no requirement that this be linear or support any granularity of operations. This should not be used to guess when the operation will be complete. This number should monotonically increase as the operation progresses.\n",
      "        \"httpErrorStatusCode\": 42, # [Output Only] If the operation fails, this field contains the HTTP error status code that was returned. For example, a 404 means the resource was not found.\n",
      "        \"statusMessage\": \"A String\", # [Output Only] An optional textual description of the current status of the operation.\n",
      "        \"status\": \"A String\", # [Output Only] The status of the operation, which can be one of the following: PENDING, RUNNING, or DONE.\n",
      "        \"description\": \"A String\", # [Output Only] A textual description of the operation, which is set when the operation is created.\n",
      "        \"warnings\": [ # [Output Only] If warning messages are generated during processing of the operation, this field will be populated.\n",
      "          {\n",
      "            \"message\": \"A String\", # [Output Only] A human-readable description of the warning code.\n",
      "            \"code\": \"A String\", # [Output Only] A warning code, if applicable. For example, Compute Engine returns NO_RESULTS_ON_PAGE if there are no results in the response.\n",
      "            \"data\": [ # [Output Only] Metadata about this warning in key: value format. For example:\n",
      "                # \"data\": [ { \"key\": \"scope\", \"value\": \"zones/us-east1-d\" }\n",
      "              {\n",
      "                \"value\": \"A String\", # [Output Only] A warning data value corresponding to the key.\n",
      "                \"key\": \"A String\", # [Output Only] A key that provides more detail on the warning being returned. For example, for warnings where there are no results in a list request for a particular zone, this key might be scope and the key value might be the zone name. Other examples might be a key indicating a deprecated resource and a suggested replacement, or a warning about invalid network settings (for example, if an instance attempts to perform IP forwarding but is not enabled for IP forwarding).\n",
      "              },\n",
      "            ],\n",
      "          },\n",
      "        ],\n",
      "        \"user\": \"A String\", # [Output Only] User who requested the operation, for example: user@example.com.\n",
      "        \"startTime\": \"A String\", # [Output Only] The time that this operation was started by the server. This value is in RFC3339 text format.\n",
      "        \"kind\": \"compute#operation\", # [Output Only] Type of the resource. Always compute#operation for Operation resources.\n",
      "        \"name\": \"A String\", # [Output Only] Name of the resource.\n",
      "        \"region\": \"A String\", # [Output Only] The URL of the region where the operation resides. Only available when performing regional operations. You must specify this field as part of the HTTP request URL. It is not settable as a field in the request body.\n",
      "        \"error\": { # [Output Only] If errors are generated during processing of the operation, this field will be populated.\n",
      "          \"errors\": [ # [Output Only] The array of errors encountered while processing this operation.\n",
      "            {\n",
      "              \"message\": \"A String\", # [Output Only] An optional, human-readable error message.\n",
      "              \"code\": \"A String\", # [Output Only] The error type identifier for this error.\n",
      "              \"location\": \"A String\", # [Output Only] Indicates the field in the request that caused the error. This property is optional.\n",
      "            },\n",
      "          ],\n",
      "        },\n",
      "        \"endTime\": \"A String\", # [Output Only] The time that this operation was completed. This value is in RFC3339 text format.\n",
      "        \"selfLink\": \"A String\", # [Output Only] Server-defined URL for the resource.\n",
      "        \"targetLink\": \"A String\", # [Output Only] The URL of the resource that the operation modifies. For operations related to creating a snapshot, this points to the persistent disk that the snapshot was created from.\n",
      "      }\n",
      "\n"
     ]
    }
   ],
   "source": [
    "help(disks.insert)"
   ]
  },
  {
   "cell_type": "code",
   "execution_count": 11,
   "metadata": {
    "collapsed": true
   },
   "outputs": [],
   "source": [
    "f=open('/usr/share/dict/words')"
   ]
  },
  {
   "cell_type": "code",
   "execution_count": 12,
   "metadata": {
    "collapsed": true
   },
   "outputs": [],
   "source": [
    "wordlist = f.readlines()"
   ]
  },
  {
   "cell_type": "code",
   "execution_count": 13,
   "metadata": {},
   "outputs": [
    {
     "data": {
      "text/plain": [
       "102305"
      ]
     },
     "execution_count": 13,
     "metadata": {},
     "output_type": "execute_result"
    }
   ],
   "source": [
    "len(wordlist)"
   ]
  },
  {
   "cell_type": "code",
   "execution_count": 23,
   "metadata": {},
   "outputs": [
    {
     "data": {
      "text/plain": [
       "'centers'"
      ]
     },
     "execution_count": 23,
     "metadata": {},
     "output_type": "execute_result"
    }
   ],
   "source": [
    "random.choice(wordlist).strip('\\n').replace(\"'\",\"\")"
   ]
  },
  {
   "cell_type": "code",
   "execution_count": 10,
   "metadata": {
    "collapsed": true
   },
   "outputs": [],
   "source": [
    "vmnum=1"
   ]
  },
  {
   "cell_type": "code",
   "execution_count": 11,
   "metadata": {
    "collapsed": true
   },
   "outputs": [],
   "source": [
    "def start_instance(mtype, zone, name=None):\n",
    "    global wordlist \n",
    "    global vmnum \n",
    "    \n",
    "    vmnum = vmnum+1 \n",
    "    \n",
    "    if name is None:\n",
    "        name = \"arrow\"+str(vmnum)\n",
    "    \n",
    "    machine_type = \"zones/{}/machineTypes/{}\".format(zone, mtype)\n",
    "    \n",
    "    \n",
    "    instance_body={\n",
    "        'name':name,\n",
    "        'machineType':machine_type, \n",
    "        'scheduling':\n",
    "          {\n",
    "        'preemptible': 'true'\n",
    "          },\n",
    "        'disks': [\n",
    "        {\n",
    "            'boot': True,\n",
    "            'autoDelete': True,\n",
    "            'initializeParams': {\n",
    "                'sourceImage': \"global/images/mp1\"\n",
    "                }\n",
    "        }],\n",
    "        'networkInterfaces': [{\n",
    "        'network': 'global/networks/default',\n",
    "        'accessConfigs': [\n",
    "            {'type': 'ONE_TO_ONE_NAT', 'name': 'External NAT'}\n",
    "        ]\n",
    "    }],\n",
    "    }\n",
    "    print(str(instance_body))\n",
    "    \n",
    "    response = compute.instances().insert(project=project,zone=zone,body=instance_body).execute()\n",
    "    return response \n",
    "    "
   ]
  },
  {
   "cell_type": "code",
   "execution_count": 12,
   "metadata": {
    "collapsed": true
   },
   "outputs": [],
   "source": [
    "mtypes_stan=['n1-standard-1','n1-standard-16','n1-standard-2','n1-standard-32','n1-standard-4','n1-standard-64','n1-standard-8']"
   ]
  },
  {
   "cell_type": "code",
   "execution_count": 13,
   "metadata": {
    "collapsed": true
   },
   "outputs": [],
   "source": [
    "mtypes_highcpu=['n1-highcpu-16','n1-highcpu-2','n1-highcpu-32','n1-highcpu-4','n1-highcpu-64','n1-highcpu-8']"
   ]
  },
  {
   "cell_type": "code",
   "execution_count": 14,
   "metadata": {
    "collapsed": true
   },
   "outputs": [],
   "source": [
    "zones=['us-central1-f','us-east1-b','us-east4-c','europe-west4-a','europe-north1-a','asia-southeast1-b']"
   ]
  },
  {
   "cell_type": "code",
   "execution_count": 15,
   "metadata": {},
   "outputs": [
    {
     "name": "stdout",
     "output_type": "stream",
     "text": [
      "{'scheduling': {'preemptible': 'true'}, 'disks': [{'initializeParams': {'sourceImage': 'global/images/mp1'}, 'boot': True, 'autoDelete': True}], 'machineType': 'zones/us-central1-f/machineTypes/n1-standard-16', 'name': 'arrow2', 'networkInterfaces': [{'accessConfigs': [{'type': 'ONE_TO_ONE_NAT', 'name': 'External NAT'}], 'network': 'global/networks/default'}]}\n"
     ]
    },
    {
     "data": {
      "text/plain": [
       "{u'id': u'586765532091582295',\n",
       " u'insertTime': u'2019-02-21T06:46:16.450-08:00',\n",
       " u'kind': u'compute#operation',\n",
       " u'name': u'operation-1550760374847-58268894647c3-737e9803-eb7dbee5',\n",
       " u'operationType': u'insert',\n",
       " u'progress': 0,\n",
       " u'selfLink': u'https://www.googleapis.com/compute/v1/projects/first-220321/zones/us-central1-f/operations/operation-1550760374847-58268894647c3-737e9803-eb7dbee5',\n",
       " u'status': u'PENDING',\n",
       " u'targetId': u'7182878934084814680',\n",
       " u'targetLink': u'https://www.googleapis.com/compute/v1/projects/first-220321/zones/us-central1-f/instances/arrow2',\n",
       " u'user': u'prateeks@first-220321.iam.gserviceaccount.com',\n",
       " u'zone': u'https://www.googleapis.com/compute/v1/projects/first-220321/zones/us-central1-f'}"
      ]
     },
     "execution_count": 15,
     "metadata": {},
     "output_type": "execute_result"
    }
   ],
   "source": [
    "start_instance('n1-standard-16', zones[0])"
   ]
  },
  {
   "cell_type": "code",
   "execution_count": 16,
   "metadata": {},
   "outputs": [
    {
     "name": "stdout",
     "output_type": "stream",
     "text": [
      "{'scheduling': {'preemptible': 'true'}, 'disks': [{'initializeParams': {'sourceImage': 'global/images/mp1'}, 'boot': True, 'autoDelete': True}], 'machineType': 'zones/us-central1-f/machineTypes/n1-standard-16', 'name': 'arrow3', 'networkInterfaces': [{'accessConfigs': [{'type': 'ONE_TO_ONE_NAT', 'name': 'External NAT'}], 'network': 'global/networks/default'}]}\n",
      "{'scheduling': {'preemptible': 'true'}, 'disks': [{'initializeParams': {'sourceImage': 'global/images/mp1'}, 'boot': True, 'autoDelete': True}], 'machineType': 'zones/us-central1-f/machineTypes/n1-standard-16', 'name': 'arrow4', 'networkInterfaces': [{'accessConfigs': [{'type': 'ONE_TO_ONE_NAT', 'name': 'External NAT'}], 'network': 'global/networks/default'}]}\n",
      "{'scheduling': {'preemptible': 'true'}, 'disks': [{'initializeParams': {'sourceImage': 'global/images/mp1'}, 'boot': True, 'autoDelete': True}], 'machineType': 'zones/us-central1-f/machineTypes/n1-standard-16', 'name': 'arrow5', 'networkInterfaces': [{'accessConfigs': [{'type': 'ONE_TO_ONE_NAT', 'name': 'External NAT'}], 'network': 'global/networks/default'}]}\n",
      "{'scheduling': {'preemptible': 'true'}, 'disks': [{'initializeParams': {'sourceImage': 'global/images/mp1'}, 'boot': True, 'autoDelete': True}], 'machineType': 'zones/us-central1-f/machineTypes/n1-standard-16', 'name': 'arrow6', 'networkInterfaces': [{'accessConfigs': [{'type': 'ONE_TO_ONE_NAT', 'name': 'External NAT'}], 'network': 'global/networks/default'}]}\n",
      "{'scheduling': {'preemptible': 'true'}, 'disks': [{'initializeParams': {'sourceImage': 'global/images/mp1'}, 'boot': True, 'autoDelete': True}], 'machineType': 'zones/us-central1-f/machineTypes/n1-standard-16', 'name': 'arrow7', 'networkInterfaces': [{'accessConfigs': [{'type': 'ONE_TO_ONE_NAT', 'name': 'External NAT'}], 'network': 'global/networks/default'}]}\n",
      "{'scheduling': {'preemptible': 'true'}, 'disks': [{'initializeParams': {'sourceImage': 'global/images/mp1'}, 'boot': True, 'autoDelete': True}], 'machineType': 'zones/us-central1-f/machineTypes/n1-standard-16', 'name': 'arrow8', 'networkInterfaces': [{'accessConfigs': [{'type': 'ONE_TO_ONE_NAT', 'name': 'External NAT'}], 'network': 'global/networks/default'}]}\n",
      "{'scheduling': {'preemptible': 'true'}, 'disks': [{'initializeParams': {'sourceImage': 'global/images/mp1'}, 'boot': True, 'autoDelete': True}], 'machineType': 'zones/us-central1-f/machineTypes/n1-standard-16', 'name': 'arrow9', 'networkInterfaces': [{'accessConfigs': [{'type': 'ONE_TO_ONE_NAT', 'name': 'External NAT'}], 'network': 'global/networks/default'}]}\n"
     ]
    }
   ],
   "source": [
    "for _ in xrange(7):\n",
    "    start_instance('n1-standard-16', zones[0])\n",
    "    time.sleep(5)"
   ]
  },
  {
   "cell_type": "code",
   "execution_count": 82,
   "metadata": {},
   "outputs": [
    {
     "name": "stdout",
     "output_type": "stream",
     "text": [
      "{'scheduling': {'preemptible': 'true'}, 'disks': [{'initializeParams': {'sourceImage': 'global/images/mp1'}, 'boot': True, 'autoDelete': True}], 'machineType': 'zones/europe-north1-a/machineTypes/n1-standard-1', 'name': 'aardvark27', 'networkInterfaces': [{'accessConfigs': [{'type': 'ONE_TO_ONE_NAT', 'name': 'External NAT'}], 'network': 'global/networks/default'}]}\n",
      "{'scheduling': {'preemptible': 'true'}, 'disks': [{'initializeParams': {'sourceImage': 'global/images/mp1'}, 'boot': True, 'autoDelete': True}], 'machineType': 'zones/europe-north1-a/machineTypes/n1-standard-16', 'name': 'aardvark28', 'networkInterfaces': [{'accessConfigs': [{'type': 'ONE_TO_ONE_NAT', 'name': 'External NAT'}], 'network': 'global/networks/default'}]}\n",
      "{'scheduling': {'preemptible': 'true'}, 'disks': [{'initializeParams': {'sourceImage': 'global/images/mp1'}, 'boot': True, 'autoDelete': True}], 'machineType': 'zones/europe-north1-a/machineTypes/n1-standard-2', 'name': 'aardvark29', 'networkInterfaces': [{'accessConfigs': [{'type': 'ONE_TO_ONE_NAT', 'name': 'External NAT'}], 'network': 'global/networks/default'}]}\n",
      "{'scheduling': {'preemptible': 'true'}, 'disks': [{'initializeParams': {'sourceImage': 'global/images/mp1'}, 'boot': True, 'autoDelete': True}], 'machineType': 'zones/europe-north1-a/machineTypes/n1-standard-32', 'name': 'aardvark30', 'networkInterfaces': [{'accessConfigs': [{'type': 'ONE_TO_ONE_NAT', 'name': 'External NAT'}], 'network': 'global/networks/default'}]}\n"
     ]
    },
    {
     "ename": "HttpError",
     "evalue": "<HttpError 403 when requesting https://www.googleapis.com/compute/v1/projects/first-220321/zones/europe-north1-a/instances?alt=json returned \"Quota 'CPUS' exceeded. Limit: 24.0 in region europe-north1.\">",
     "output_type": "error",
     "traceback": [
      "\u001b[1;31m---------------------------------------------------------------------------\u001b[0m",
      "\u001b[1;31mHttpError\u001b[0m                                 Traceback (most recent call last)",
      "\u001b[1;32m<ipython-input-82-d6c2cc961457>\u001b[0m in \u001b[0;36m<module>\u001b[1;34m()\u001b[0m\n\u001b[0;32m      1\u001b[0m \u001b[1;32mfor\u001b[0m \u001b[0mz\u001b[0m \u001b[1;32min\u001b[0m \u001b[0mzones\u001b[0m\u001b[1;33m[\u001b[0m\u001b[1;36m4\u001b[0m\u001b[1;33m:\u001b[0m\u001b[1;33m]\u001b[0m\u001b[1;33m:\u001b[0m\u001b[1;33m\u001b[0m\u001b[0m\n\u001b[0;32m      2\u001b[0m     \u001b[1;32mfor\u001b[0m \u001b[0mm\u001b[0m \u001b[1;32min\u001b[0m \u001b[0mmtypes_stan\u001b[0m\u001b[1;33m:\u001b[0m\u001b[1;33m\u001b[0m\u001b[0m\n\u001b[1;32m----> 3\u001b[1;33m         \u001b[0mstart_instance\u001b[0m\u001b[1;33m(\u001b[0m\u001b[0mm\u001b[0m\u001b[1;33m,\u001b[0m\u001b[0mz\u001b[0m\u001b[1;33m)\u001b[0m\u001b[1;33m\u001b[0m\u001b[0m\n\u001b[0m\u001b[0;32m      4\u001b[0m         \u001b[0mtime\u001b[0m\u001b[1;33m.\u001b[0m\u001b[0msleep\u001b[0m\u001b[1;33m(\u001b[0m\u001b[1;36m5\u001b[0m\u001b[1;33m)\u001b[0m\u001b[1;33m\u001b[0m\u001b[0m\n",
      "\u001b[1;32m<ipython-input-67-d0d9d6d4cc29>\u001b[0m in \u001b[0;36mstart_instance\u001b[1;34m(mtype, zone, name)\u001b[0m\n\u001b[0;32m     35\u001b[0m     \u001b[1;32mprint\u001b[0m\u001b[1;33m(\u001b[0m\u001b[0mstr\u001b[0m\u001b[1;33m(\u001b[0m\u001b[0minstance_body\u001b[0m\u001b[1;33m)\u001b[0m\u001b[1;33m)\u001b[0m\u001b[1;33m\u001b[0m\u001b[0m\n\u001b[0;32m     36\u001b[0m \u001b[1;33m\u001b[0m\u001b[0m\n\u001b[1;32m---> 37\u001b[1;33m     \u001b[0mresponse\u001b[0m \u001b[1;33m=\u001b[0m \u001b[0mcompute\u001b[0m\u001b[1;33m.\u001b[0m\u001b[0minstances\u001b[0m\u001b[1;33m(\u001b[0m\u001b[1;33m)\u001b[0m\u001b[1;33m.\u001b[0m\u001b[0minsert\u001b[0m\u001b[1;33m(\u001b[0m\u001b[0mproject\u001b[0m\u001b[1;33m=\u001b[0m\u001b[0mproject\u001b[0m\u001b[1;33m,\u001b[0m\u001b[0mzone\u001b[0m\u001b[1;33m=\u001b[0m\u001b[0mzone\u001b[0m\u001b[1;33m,\u001b[0m\u001b[0mbody\u001b[0m\u001b[1;33m=\u001b[0m\u001b[0minstance_body\u001b[0m\u001b[1;33m)\u001b[0m\u001b[1;33m.\u001b[0m\u001b[0mexecute\u001b[0m\u001b[1;33m(\u001b[0m\u001b[1;33m)\u001b[0m\u001b[1;33m\u001b[0m\u001b[0m\n\u001b[0m\u001b[0;32m     38\u001b[0m     \u001b[1;32mreturn\u001b[0m \u001b[0mresponse\u001b[0m\u001b[1;33m\u001b[0m\u001b[0m\n\u001b[0;32m     39\u001b[0m \u001b[1;33m\u001b[0m\u001b[0m\n",
      "\u001b[1;32m/usr/local/lib/python2.7/dist-packages/googleapiclient/_helpers.pyc\u001b[0m in \u001b[0;36mpositional_wrapper\u001b[1;34m(*args, **kwargs)\u001b[0m\n\u001b[0;32m    128\u001b[0m                 \u001b[1;32melif\u001b[0m \u001b[0mpositional_parameters_enforcement\u001b[0m \u001b[1;33m==\u001b[0m \u001b[0mPOSITIONAL_WARNING\u001b[0m\u001b[1;33m:\u001b[0m\u001b[1;33m\u001b[0m\u001b[0m\n\u001b[0;32m    129\u001b[0m                     \u001b[0mlogger\u001b[0m\u001b[1;33m.\u001b[0m\u001b[0mwarning\u001b[0m\u001b[1;33m(\u001b[0m\u001b[0mmessage\u001b[0m\u001b[1;33m)\u001b[0m\u001b[1;33m\u001b[0m\u001b[0m\n\u001b[1;32m--> 130\u001b[1;33m             \u001b[1;32mreturn\u001b[0m \u001b[0mwrapped\u001b[0m\u001b[1;33m(\u001b[0m\u001b[1;33m*\u001b[0m\u001b[0margs\u001b[0m\u001b[1;33m,\u001b[0m \u001b[1;33m**\u001b[0m\u001b[0mkwargs\u001b[0m\u001b[1;33m)\u001b[0m\u001b[1;33m\u001b[0m\u001b[0m\n\u001b[0m\u001b[0;32m    131\u001b[0m         \u001b[1;32mreturn\u001b[0m \u001b[0mpositional_wrapper\u001b[0m\u001b[1;33m\u001b[0m\u001b[0m\n\u001b[0;32m    132\u001b[0m \u001b[1;33m\u001b[0m\u001b[0m\n",
      "\u001b[1;32m/usr/local/lib/python2.7/dist-packages/googleapiclient/http.pyc\u001b[0m in \u001b[0;36mexecute\u001b[1;34m(self, http, num_retries)\u001b[0m\n\u001b[0;32m    849\u001b[0m       \u001b[0mcallback\u001b[0m\u001b[1;33m(\u001b[0m\u001b[0mresp\u001b[0m\u001b[1;33m)\u001b[0m\u001b[1;33m\u001b[0m\u001b[0m\n\u001b[0;32m    850\u001b[0m     \u001b[1;32mif\u001b[0m \u001b[0mresp\u001b[0m\u001b[1;33m.\u001b[0m\u001b[0mstatus\u001b[0m \u001b[1;33m>=\u001b[0m \u001b[1;36m300\u001b[0m\u001b[1;33m:\u001b[0m\u001b[1;33m\u001b[0m\u001b[0m\n\u001b[1;32m--> 851\u001b[1;33m       \u001b[1;32mraise\u001b[0m \u001b[0mHttpError\u001b[0m\u001b[1;33m(\u001b[0m\u001b[0mresp\u001b[0m\u001b[1;33m,\u001b[0m \u001b[0mcontent\u001b[0m\u001b[1;33m,\u001b[0m \u001b[0muri\u001b[0m\u001b[1;33m=\u001b[0m\u001b[0mself\u001b[0m\u001b[1;33m.\u001b[0m\u001b[0muri\u001b[0m\u001b[1;33m)\u001b[0m\u001b[1;33m\u001b[0m\u001b[0m\n\u001b[0m\u001b[0;32m    852\u001b[0m     \u001b[1;32mreturn\u001b[0m \u001b[0mself\u001b[0m\u001b[1;33m.\u001b[0m\u001b[0mpostproc\u001b[0m\u001b[1;33m(\u001b[0m\u001b[0mresp\u001b[0m\u001b[1;33m,\u001b[0m \u001b[0mcontent\u001b[0m\u001b[1;33m)\u001b[0m\u001b[1;33m\u001b[0m\u001b[0m\n\u001b[0;32m    853\u001b[0m \u001b[1;33m\u001b[0m\u001b[0m\n",
      "\u001b[1;31mHttpError\u001b[0m: <HttpError 403 when requesting https://www.googleapis.com/compute/v1/projects/first-220321/zones/europe-north1-a/instances?alt=json returned \"Quota 'CPUS' exceeded. Limit: 24.0 in region europe-north1.\">"
     ]
    }
   ],
   "source": [
    "for z in zones[4:]:\n",
    "    for m in mtypes_stan:\n",
    "        start_instance(m,z)\n",
    "        time.sleep(5)"
   ]
  },
  {
   "cell_type": "code",
   "execution_count": 76,
   "metadata": {
    "collapsed": true
   },
   "outputs": [],
   "source": [
    "import time"
   ]
  },
  {
   "cell_type": "code",
   "execution_count": 77,
   "metadata": {
    "collapsed": true
   },
   "outputs": [],
   "source": [
    "time.sleep(1)"
   ]
  },
  {
   "cell_type": "code",
   "execution_count": 72,
   "metadata": {},
   "outputs": [
    {
     "ename": "ImportError",
     "evalue": "No module named cloud",
     "output_type": "error",
     "traceback": [
      "\u001b[1;31m---------------------------------------------------------------------------\u001b[0m",
      "\u001b[1;31mImportError\u001b[0m                               Traceback (most recent call last)",
      "\u001b[1;32m<ipython-input-72-b74b8fc7c881>\u001b[0m in \u001b[0;36m<module>\u001b[1;34m()\u001b[0m\n\u001b[1;32m----> 1\u001b[1;33m \u001b[1;32mfrom\u001b[0m \u001b[0mgoogle\u001b[0m\u001b[1;33m.\u001b[0m\u001b[0mcloud\u001b[0m \u001b[1;32mimport\u001b[0m \u001b[0mlogging\u001b[0m\u001b[1;33m\u001b[0m\u001b[0m\n\u001b[0m",
      "\u001b[1;31mImportError\u001b[0m: No module named cloud"
     ]
    }
   ],
   "source": [
    "from google.cloud import logging"
   ]
  },
  {
   "cell_type": "code",
   "execution_count": 84,
   "metadata": {},
   "outputs": [
    {
     "data": {
      "text/plain": [
       "18"
      ]
     },
     "execution_count": 84,
     "metadata": {},
     "output_type": "execute_result"
    }
   ],
   "source": [
    "sum([1,2,4,8,16,32,64])/7"
   ]
  },
  {
   "cell_type": "code",
   "execution_count": 86,
   "metadata": {},
   "outputs": [
    {
     "data": {
      "text/plain": [
       "18.285714285714285"
      ]
     },
     "execution_count": 86,
     "metadata": {},
     "output_type": "execute_result"
    }
   ],
   "source": [
    "128.0/7"
   ]
  },
  {
   "cell_type": "code",
   "execution_count": 78,
   "metadata": {},
   "outputs": [
    {
     "data": {
      "text/plain": [
       "{u'cpuPlatform': u'Unknown CPU Platform',\n",
       " u'creationTimestamp': u'2019-02-18T08:57:37.119-08:00',\n",
       " u'deletionProtection': False,\n",
       " u'disks': [{u'autoDelete': False,\n",
       "   u'boot': True,\n",
       "   u'deviceName': u'persistent-disk-0',\n",
       "   u'guestOsFeatures': [{u'type': u'VIRTIO_SCSI_MULTIQUEUE'}],\n",
       "   u'index': 0,\n",
       "   u'interface': u'SCSI',\n",
       "   u'kind': u'compute#attachedDisk',\n",
       "   u'licenses': [u'https://www.googleapis.com/compute/v1/projects/ubuntu-os-cloud/global/licenses/ubuntu-1804-lts'],\n",
       "   u'mode': u'READ_WRITE',\n",
       "   u'source': u'https://www.googleapis.com/compute/v1/projects/first-220321/zones/us-central1-f/disks/disk-2',\n",
       "   u'type': u'PERSISTENT'}],\n",
       " u'id': u'6560694810351983343',\n",
       " u'kind': u'compute#instance',\n",
       " u'labelFingerprint': u'42WmSpB8rSM=',\n",
       " u'machineType': u'https://www.googleapis.com/compute/v1/projects/first-220321/zones/us-central1-f/machineTypes/n1-standard-2',\n",
       " u'metadata': {u'fingerprint': u'fsDgias-br0=', u'kind': u'compute#metadata'},\n",
       " u'name': u'api-i1',\n",
       " u'networkInterfaces': [{u'accessConfigs': [{u'kind': u'compute#accessConfig',\n",
       "     u'name': u'External NAT',\n",
       "     u'networkTier': u'PREMIUM',\n",
       "     u'type': u'ONE_TO_ONE_NAT'}],\n",
       "   u'fingerprint': u'MWviZCTw-Gc=',\n",
       "   u'kind': u'compute#networkInterface',\n",
       "   u'name': u'nic0',\n",
       "   u'network': u'https://www.googleapis.com/compute/v1/projects/first-220321/global/networks/default',\n",
       "   u'networkIP': u'10.128.0.2',\n",
       "   u'subnetwork': u'https://www.googleapis.com/compute/v1/projects/first-220321/regions/us-central1/subnetworks/default'}],\n",
       " u'scheduling': {u'automaticRestart': False,\n",
       "  u'onHostMaintenance': u'TERMINATE',\n",
       "  u'preemptible': True},\n",
       " u'selfLink': u'https://www.googleapis.com/compute/v1/projects/first-220321/zones/us-central1-f/instances/api-i1',\n",
       " u'startRestricted': False,\n",
       " u'status': u'TERMINATED',\n",
       " u'tags': {u'fingerprint': u'42WmSpB8rSM='},\n",
       " u'zone': u'https://www.googleapis.com/compute/v1/projects/first-220321/zones/us-central1-f'}"
      ]
     },
     "execution_count": 78,
     "metadata": {},
     "output_type": "execute_result"
    }
   ],
   "source": [
    "instances.get(project=project, zone=zc, instance='api-i1').execute()"
   ]
  },
  {
   "cell_type": "code",
   "execution_count": 79,
   "metadata": {},
   "outputs": [
    {
     "ename": "ImportError",
     "evalue": "No module named cloud",
     "output_type": "error",
     "traceback": [
      "\u001b[1;31m---------------------------------------------------------------------------\u001b[0m",
      "\u001b[1;31mImportError\u001b[0m                               Traceback (most recent call last)",
      "\u001b[1;32m<ipython-input-79-3929cd5dcd99>\u001b[0m in \u001b[0;36m<module>\u001b[1;34m()\u001b[0m\n\u001b[1;32m----> 1\u001b[1;33m \u001b[1;32mimport\u001b[0m \u001b[0mgoogle\u001b[0m\u001b[1;33m.\u001b[0m\u001b[0mcloud\u001b[0m\u001b[1;33m\u001b[0m\u001b[0m\n\u001b[0m",
      "\u001b[1;31mImportError\u001b[0m: No module named cloud"
     ]
    }
   ],
   "source": [
    "import google.cloud"
   ]
  },
  {
   "cell_type": "code",
   "execution_count": 80,
   "metadata": {},
   "outputs": [
    {
     "name": "stdout",
     "output_type": "stream",
     "text": [
      "Help on method methodResource in module googleapiclient.discovery:\n",
      "\n",
      "methodResource(self) method of googleapiclient.discovery.Resource instance\n",
      "    A collection resource.\n",
      "\n"
     ]
    }
   ],
   "source": [
    "help(compute.globalOperations)"
   ]
  },
  {
   "cell_type": "code",
   "execution_count": 81,
   "metadata": {
    "collapsed": true
   },
   "outputs": [],
   "source": [
    "from googleapiclient import discovery"
   ]
  },
  {
   "cell_type": "code",
   "execution_count": 83,
   "metadata": {
    "collapsed": true
   },
   "outputs": [],
   "source": [
    "service = discovery.build('compute', 'v1')"
   ]
  },
  {
   "cell_type": "code",
   "execution_count": 85,
   "metadata": {
    "collapsed": true
   },
   "outputs": [],
   "source": [
    "response = service.globalOperations().aggregatedList(project=project).execute()"
   ]
  },
  {
   "cell_type": "code",
   "execution_count": 86,
   "metadata": {},
   "outputs": [
    {
     "data": {
      "text/plain": [
       "{u'id': u'projects/first-220321/aggregated/operations',\n",
       " u'items': {u'global': {u'warning': {u'code': u'NO_RESULTS_ON_PAGE',\n",
       "    u'data': [{u'key': u'scope', u'value': u'global'}],\n",
       "    u'message': u\"There are no results for scope 'global' on this page.\"}},\n",
       "  u'regions/asia-east1': {u'warning': {u'code': u'NO_RESULTS_ON_PAGE',\n",
       "    u'data': [{u'key': u'scope', u'value': u'regions/asia-east1'}],\n",
       "    u'message': u\"There are no results for scope 'regions/asia-east1' on this page.\"}},\n",
       "  u'regions/asia-east2': {u'warning': {u'code': u'NO_RESULTS_ON_PAGE',\n",
       "    u'data': [{u'key': u'scope', u'value': u'regions/asia-east2'}],\n",
       "    u'message': u\"There are no results for scope 'regions/asia-east2' on this page.\"}},\n",
       "  u'regions/asia-northeast1': {u'warning': {u'code': u'NO_RESULTS_ON_PAGE',\n",
       "    u'data': [{u'key': u'scope', u'value': u'regions/asia-northeast1'}],\n",
       "    u'message': u\"There are no results for scope 'regions/asia-northeast1' on this page.\"}},\n",
       "  u'regions/asia-south1': {u'warning': {u'code': u'NO_RESULTS_ON_PAGE',\n",
       "    u'data': [{u'key': u'scope', u'value': u'regions/asia-south1'}],\n",
       "    u'message': u\"There are no results for scope 'regions/asia-south1' on this page.\"}},\n",
       "  u'regions/asia-southeast1': {u'warning': {u'code': u'NO_RESULTS_ON_PAGE',\n",
       "    u'data': [{u'key': u'scope', u'value': u'regions/asia-southeast1'}],\n",
       "    u'message': u\"There are no results for scope 'regions/asia-southeast1' on this page.\"}},\n",
       "  u'regions/australia-southeast1': {u'warning': {u'code': u'NO_RESULTS_ON_PAGE',\n",
       "    u'data': [{u'key': u'scope', u'value': u'regions/australia-southeast1'}],\n",
       "    u'message': u\"There are no results for scope 'regions/australia-southeast1' on this page.\"}},\n",
       "  u'regions/europe-north1': {u'warning': {u'code': u'NO_RESULTS_ON_PAGE',\n",
       "    u'data': [{u'key': u'scope', u'value': u'regions/europe-north1'}],\n",
       "    u'message': u\"There are no results for scope 'regions/europe-north1' on this page.\"}},\n",
       "  u'regions/europe-west1': {u'warning': {u'code': u'NO_RESULTS_ON_PAGE',\n",
       "    u'data': [{u'key': u'scope', u'value': u'regions/europe-west1'}],\n",
       "    u'message': u\"There are no results for scope 'regions/europe-west1' on this page.\"}},\n",
       "  u'regions/europe-west2': {u'warning': {u'code': u'NO_RESULTS_ON_PAGE',\n",
       "    u'data': [{u'key': u'scope', u'value': u'regions/europe-west2'}],\n",
       "    u'message': u\"There are no results for scope 'regions/europe-west2' on this page.\"}},\n",
       "  u'regions/europe-west3': {u'warning': {u'code': u'NO_RESULTS_ON_PAGE',\n",
       "    u'data': [{u'key': u'scope', u'value': u'regions/europe-west3'}],\n",
       "    u'message': u\"There are no results for scope 'regions/europe-west3' on this page.\"}},\n",
       "  u'regions/europe-west4': {u'warning': {u'code': u'NO_RESULTS_ON_PAGE',\n",
       "    u'data': [{u'key': u'scope', u'value': u'regions/europe-west4'}],\n",
       "    u'message': u\"There are no results for scope 'regions/europe-west4' on this page.\"}},\n",
       "  u'regions/northamerica-northeast1': {u'warning': {u'code': u'NO_RESULTS_ON_PAGE',\n",
       "    u'data': [{u'key': u'scope',\n",
       "      u'value': u'regions/northamerica-northeast1'}],\n",
       "    u'message': u\"There are no results for scope 'regions/northamerica-northeast1' on this page.\"}},\n",
       "  u'regions/southamerica-east1': {u'warning': {u'code': u'NO_RESULTS_ON_PAGE',\n",
       "    u'data': [{u'key': u'scope', u'value': u'regions/southamerica-east1'}],\n",
       "    u'message': u\"There are no results for scope 'regions/southamerica-east1' on this page.\"}},\n",
       "  u'regions/us-central1': {u'warning': {u'code': u'NO_RESULTS_ON_PAGE',\n",
       "    u'data': [{u'key': u'scope', u'value': u'regions/us-central1'}],\n",
       "    u'message': u\"There are no results for scope 'regions/us-central1' on this page.\"}},\n",
       "  u'regions/us-east1': {u'warning': {u'code': u'NO_RESULTS_ON_PAGE',\n",
       "    u'data': [{u'key': u'scope', u'value': u'regions/us-east1'}],\n",
       "    u'message': u\"There are no results for scope 'regions/us-east1' on this page.\"}},\n",
       "  u'regions/us-east4': {u'warning': {u'code': u'NO_RESULTS_ON_PAGE',\n",
       "    u'data': [{u'key': u'scope', u'value': u'regions/us-east4'}],\n",
       "    u'message': u\"There are no results for scope 'regions/us-east4' on this page.\"}},\n",
       "  u'regions/us-west1': {u'warning': {u'code': u'NO_RESULTS_ON_PAGE',\n",
       "    u'data': [{u'key': u'scope', u'value': u'regions/us-west1'}],\n",
       "    u'message': u\"There are no results for scope 'regions/us-west1' on this page.\"}},\n",
       "  u'regions/us-west2': {u'warning': {u'code': u'NO_RESULTS_ON_PAGE',\n",
       "    u'data': [{u'key': u'scope', u'value': u'regions/us-west2'}],\n",
       "    u'message': u\"There are no results for scope 'regions/us-west2' on this page.\"}},\n",
       "  u'zones/asia-east1-a': {u'warning': {u'code': u'NO_RESULTS_ON_PAGE',\n",
       "    u'data': [{u'key': u'scope', u'value': u'zones/asia-east1-a'}],\n",
       "    u'message': u\"There are no results for scope 'zones/asia-east1-a' on this page.\"}},\n",
       "  u'zones/asia-east1-b': {u'warning': {u'code': u'NO_RESULTS_ON_PAGE',\n",
       "    u'data': [{u'key': u'scope', u'value': u'zones/asia-east1-b'}],\n",
       "    u'message': u\"There are no results for scope 'zones/asia-east1-b' on this page.\"}},\n",
       "  u'zones/asia-east1-c': {u'warning': {u'code': u'NO_RESULTS_ON_PAGE',\n",
       "    u'data': [{u'key': u'scope', u'value': u'zones/asia-east1-c'}],\n",
       "    u'message': u\"There are no results for scope 'zones/asia-east1-c' on this page.\"}},\n",
       "  u'zones/asia-east2-a': {u'warning': {u'code': u'NO_RESULTS_ON_PAGE',\n",
       "    u'data': [{u'key': u'scope', u'value': u'zones/asia-east2-a'}],\n",
       "    u'message': u\"There are no results for scope 'zones/asia-east2-a' on this page.\"}},\n",
       "  u'zones/asia-east2-b': {u'warning': {u'code': u'NO_RESULTS_ON_PAGE',\n",
       "    u'data': [{u'key': u'scope', u'value': u'zones/asia-east2-b'}],\n",
       "    u'message': u\"There are no results for scope 'zones/asia-east2-b' on this page.\"}},\n",
       "  u'zones/asia-east2-c': {u'warning': {u'code': u'NO_RESULTS_ON_PAGE',\n",
       "    u'data': [{u'key': u'scope', u'value': u'zones/asia-east2-c'}],\n",
       "    u'message': u\"There are no results for scope 'zones/asia-east2-c' on this page.\"}},\n",
       "  u'zones/asia-northeast1-a': {u'warning': {u'code': u'NO_RESULTS_ON_PAGE',\n",
       "    u'data': [{u'key': u'scope', u'value': u'zones/asia-northeast1-a'}],\n",
       "    u'message': u\"There are no results for scope 'zones/asia-northeast1-a' on this page.\"}},\n",
       "  u'zones/asia-northeast1-b': {u'warning': {u'code': u'NO_RESULTS_ON_PAGE',\n",
       "    u'data': [{u'key': u'scope', u'value': u'zones/asia-northeast1-b'}],\n",
       "    u'message': u\"There are no results for scope 'zones/asia-northeast1-b' on this page.\"}},\n",
       "  u'zones/asia-northeast1-c': {u'warning': {u'code': u'NO_RESULTS_ON_PAGE',\n",
       "    u'data': [{u'key': u'scope', u'value': u'zones/asia-northeast1-c'}],\n",
       "    u'message': u\"There are no results for scope 'zones/asia-northeast1-c' on this page.\"}},\n",
       "  u'zones/asia-south1-a': {u'warning': {u'code': u'NO_RESULTS_ON_PAGE',\n",
       "    u'data': [{u'key': u'scope', u'value': u'zones/asia-south1-a'}],\n",
       "    u'message': u\"There are no results for scope 'zones/asia-south1-a' on this page.\"}},\n",
       "  u'zones/asia-south1-b': {u'warning': {u'code': u'NO_RESULTS_ON_PAGE',\n",
       "    u'data': [{u'key': u'scope', u'value': u'zones/asia-south1-b'}],\n",
       "    u'message': u\"There are no results for scope 'zones/asia-south1-b' on this page.\"}},\n",
       "  u'zones/asia-south1-c': {u'warning': {u'code': u'NO_RESULTS_ON_PAGE',\n",
       "    u'data': [{u'key': u'scope', u'value': u'zones/asia-south1-c'}],\n",
       "    u'message': u\"There are no results for scope 'zones/asia-south1-c' on this page.\"}},\n",
       "  u'zones/asia-southeast1-a': {u'warning': {u'code': u'NO_RESULTS_ON_PAGE',\n",
       "    u'data': [{u'key': u'scope', u'value': u'zones/asia-southeast1-a'}],\n",
       "    u'message': u\"There are no results for scope 'zones/asia-southeast1-a' on this page.\"}},\n",
       "  u'zones/asia-southeast1-b': {u'warning': {u'code': u'NO_RESULTS_ON_PAGE',\n",
       "    u'data': [{u'key': u'scope', u'value': u'zones/asia-southeast1-b'}],\n",
       "    u'message': u\"There are no results for scope 'zones/asia-southeast1-b' on this page.\"}},\n",
       "  u'zones/asia-southeast1-c': {u'warning': {u'code': u'NO_RESULTS_ON_PAGE',\n",
       "    u'data': [{u'key': u'scope', u'value': u'zones/asia-southeast1-c'}],\n",
       "    u'message': u\"There are no results for scope 'zones/asia-southeast1-c' on this page.\"}},\n",
       "  u'zones/australia-southeast1-a': {u'warning': {u'code': u'NO_RESULTS_ON_PAGE',\n",
       "    u'data': [{u'key': u'scope', u'value': u'zones/australia-southeast1-a'}],\n",
       "    u'message': u\"There are no results for scope 'zones/australia-southeast1-a' on this page.\"}},\n",
       "  u'zones/australia-southeast1-b': {u'warning': {u'code': u'NO_RESULTS_ON_PAGE',\n",
       "    u'data': [{u'key': u'scope', u'value': u'zones/australia-southeast1-b'}],\n",
       "    u'message': u\"There are no results for scope 'zones/australia-southeast1-b' on this page.\"}},\n",
       "  u'zones/australia-southeast1-c': {u'warning': {u'code': u'NO_RESULTS_ON_PAGE',\n",
       "    u'data': [{u'key': u'scope', u'value': u'zones/australia-southeast1-c'}],\n",
       "    u'message': u\"There are no results for scope 'zones/australia-southeast1-c' on this page.\"}},\n",
       "  u'zones/europe-north1-a': {u'warning': {u'code': u'NO_RESULTS_ON_PAGE',\n",
       "    u'data': [{u'key': u'scope', u'value': u'zones/europe-north1-a'}],\n",
       "    u'message': u\"There are no results for scope 'zones/europe-north1-a' on this page.\"}},\n",
       "  u'zones/europe-north1-b': {u'warning': {u'code': u'NO_RESULTS_ON_PAGE',\n",
       "    u'data': [{u'key': u'scope', u'value': u'zones/europe-north1-b'}],\n",
       "    u'message': u\"There are no results for scope 'zones/europe-north1-b' on this page.\"}},\n",
       "  u'zones/europe-north1-c': {u'warning': {u'code': u'NO_RESULTS_ON_PAGE',\n",
       "    u'data': [{u'key': u'scope', u'value': u'zones/europe-north1-c'}],\n",
       "    u'message': u\"There are no results for scope 'zones/europe-north1-c' on this page.\"}},\n",
       "  u'zones/europe-west1-b': {u'warning': {u'code': u'NO_RESULTS_ON_PAGE',\n",
       "    u'data': [{u'key': u'scope', u'value': u'zones/europe-west1-b'}],\n",
       "    u'message': u\"There are no results for scope 'zones/europe-west1-b' on this page.\"}},\n",
       "  u'zones/europe-west1-c': {u'warning': {u'code': u'NO_RESULTS_ON_PAGE',\n",
       "    u'data': [{u'key': u'scope', u'value': u'zones/europe-west1-c'}],\n",
       "    u'message': u\"There are no results for scope 'zones/europe-west1-c' on this page.\"}},\n",
       "  u'zones/europe-west1-d': {u'warning': {u'code': u'NO_RESULTS_ON_PAGE',\n",
       "    u'data': [{u'key': u'scope', u'value': u'zones/europe-west1-d'}],\n",
       "    u'message': u\"There are no results for scope 'zones/europe-west1-d' on this page.\"}},\n",
       "  u'zones/europe-west2-a': {u'warning': {u'code': u'NO_RESULTS_ON_PAGE',\n",
       "    u'data': [{u'key': u'scope', u'value': u'zones/europe-west2-a'}],\n",
       "    u'message': u\"There are no results for scope 'zones/europe-west2-a' on this page.\"}},\n",
       "  u'zones/europe-west2-b': {u'warning': {u'code': u'NO_RESULTS_ON_PAGE',\n",
       "    u'data': [{u'key': u'scope', u'value': u'zones/europe-west2-b'}],\n",
       "    u'message': u\"There are no results for scope 'zones/europe-west2-b' on this page.\"}},\n",
       "  u'zones/europe-west2-c': {u'warning': {u'code': u'NO_RESULTS_ON_PAGE',\n",
       "    u'data': [{u'key': u'scope', u'value': u'zones/europe-west2-c'}],\n",
       "    u'message': u\"There are no results for scope 'zones/europe-west2-c' on this page.\"}},\n",
       "  u'zones/europe-west3-a': {u'warning': {u'code': u'NO_RESULTS_ON_PAGE',\n",
       "    u'data': [{u'key': u'scope', u'value': u'zones/europe-west3-a'}],\n",
       "    u'message': u\"There are no results for scope 'zones/europe-west3-a' on this page.\"}},\n",
       "  u'zones/europe-west3-b': {u'warning': {u'code': u'NO_RESULTS_ON_PAGE',\n",
       "    u'data': [{u'key': u'scope', u'value': u'zones/europe-west3-b'}],\n",
       "    u'message': u\"There are no results for scope 'zones/europe-west3-b' on this page.\"}},\n",
       "  u'zones/europe-west3-c': {u'warning': {u'code': u'NO_RESULTS_ON_PAGE',\n",
       "    u'data': [{u'key': u'scope', u'value': u'zones/europe-west3-c'}],\n",
       "    u'message': u\"There are no results for scope 'zones/europe-west3-c' on this page.\"}},\n",
       "  u'zones/europe-west4-a': {u'warning': {u'code': u'NO_RESULTS_ON_PAGE',\n",
       "    u'data': [{u'key': u'scope', u'value': u'zones/europe-west4-a'}],\n",
       "    u'message': u\"There are no results for scope 'zones/europe-west4-a' on this page.\"}},\n",
       "  u'zones/europe-west4-b': {u'warning': {u'code': u'NO_RESULTS_ON_PAGE',\n",
       "    u'data': [{u'key': u'scope', u'value': u'zones/europe-west4-b'}],\n",
       "    u'message': u\"There are no results for scope 'zones/europe-west4-b' on this page.\"}},\n",
       "  u'zones/europe-west4-c': {u'warning': {u'code': u'NO_RESULTS_ON_PAGE',\n",
       "    u'data': [{u'key': u'scope', u'value': u'zones/europe-west4-c'}],\n",
       "    u'message': u\"There are no results for scope 'zones/europe-west4-c' on this page.\"}},\n",
       "  u'zones/northamerica-northeast1-a': {u'warning': {u'code': u'NO_RESULTS_ON_PAGE',\n",
       "    u'data': [{u'key': u'scope',\n",
       "      u'value': u'zones/northamerica-northeast1-a'}],\n",
       "    u'message': u\"There are no results for scope 'zones/northamerica-northeast1-a' on this page.\"}},\n",
       "  u'zones/northamerica-northeast1-b': {u'warning': {u'code': u'NO_RESULTS_ON_PAGE',\n",
       "    u'data': [{u'key': u'scope',\n",
       "      u'value': u'zones/northamerica-northeast1-b'}],\n",
       "    u'message': u\"There are no results for scope 'zones/northamerica-northeast1-b' on this page.\"}},\n",
       "  u'zones/northamerica-northeast1-c': {u'warning': {u'code': u'NO_RESULTS_ON_PAGE',\n",
       "    u'data': [{u'key': u'scope',\n",
       "      u'value': u'zones/northamerica-northeast1-c'}],\n",
       "    u'message': u\"There are no results for scope 'zones/northamerica-northeast1-c' on this page.\"}},\n",
       "  u'zones/southamerica-east1-a': {u'warning': {u'code': u'NO_RESULTS_ON_PAGE',\n",
       "    u'data': [{u'key': u'scope', u'value': u'zones/southamerica-east1-a'}],\n",
       "    u'message': u\"There are no results for scope 'zones/southamerica-east1-a' on this page.\"}},\n",
       "  u'zones/southamerica-east1-b': {u'warning': {u'code': u'NO_RESULTS_ON_PAGE',\n",
       "    u'data': [{u'key': u'scope', u'value': u'zones/southamerica-east1-b'}],\n",
       "    u'message': u\"There are no results for scope 'zones/southamerica-east1-b' on this page.\"}},\n",
       "  u'zones/southamerica-east1-c': {u'warning': {u'code': u'NO_RESULTS_ON_PAGE',\n",
       "    u'data': [{u'key': u'scope', u'value': u'zones/southamerica-east1-c'}],\n",
       "    u'message': u\"There are no results for scope 'zones/southamerica-east1-c' on this page.\"}},\n",
       "  u'zones/us-central1-a': {u'warning': {u'code': u'NO_RESULTS_ON_PAGE',\n",
       "    u'data': [{u'key': u'scope', u'value': u'zones/us-central1-a'}],\n",
       "    u'message': u\"There are no results for scope 'zones/us-central1-a' on this page.\"}},\n",
       "  u'zones/us-central1-b': {u'warning': {u'code': u'NO_RESULTS_ON_PAGE',\n",
       "    u'data': [{u'key': u'scope', u'value': u'zones/us-central1-b'}],\n",
       "    u'message': u\"There are no results for scope 'zones/us-central1-b' on this page.\"}},\n",
       "  u'zones/us-central1-c': {u'warning': {u'code': u'NO_RESULTS_ON_PAGE',\n",
       "    u'data': [{u'key': u'scope', u'value': u'zones/us-central1-c'}],\n",
       "    u'message': u\"There are no results for scope 'zones/us-central1-c' on this page.\"}},\n",
       "  u'zones/us-central1-f': {u'operations': [{u'endTime': u'2019-02-18T08:31:56.548-08:00',\n",
       "     u'id': u'8254100303772082995',\n",
       "     u'insertTime': u'2019-02-18T08:31:24.906-08:00',\n",
       "     u'kind': u'compute#operation',\n",
       "     u'name': u'operation-1550507484174-5822da7d0d8d4-e2919f8f-afe303d2',\n",
       "     u'operationType': u'insert',\n",
       "     u'progress': 100,\n",
       "     u'selfLink': u'https://www.googleapis.com/compute/v1/projects/first-220321/zones/us-central1-f/operations/operation-1550507484174-5822da7d0d8d4-e2919f8f-afe303d2',\n",
       "     u'startTime': u'2019-02-18T08:31:25.930-08:00',\n",
       "     u'status': u'DONE',\n",
       "     u'targetId': u'7655036994015683379',\n",
       "     u'targetLink': u'https://www.googleapis.com/compute/v1/projects/first-220321/zones/us-central1-f/disks/disk-2',\n",
       "     u'user': u'prateeks@first-220321.iam.gserviceaccount.com',\n",
       "     u'zone': u'https://www.googleapis.com/compute/v1/projects/first-220321/zones/us-central1-f'},\n",
       "    {u'endTime': u'2019-02-18T08:58:00.088-08:00',\n",
       "     u'id': u'7946116479672867566',\n",
       "     u'insertTime': u'2019-02-18T08:57:37.265-08:00',\n",
       "     u'kind': u'compute#operation',\n",
       "     u'name': u'operation-1550509056231-5822e058488c2-f808835c-8ae2fdfe',\n",
       "     u'operationType': u'insert',\n",
       "     u'progress': 100,\n",
       "     u'selfLink': u'https://www.googleapis.com/compute/v1/projects/first-220321/zones/us-central1-f/operations/operation-1550509056231-5822e058488c2-f808835c-8ae2fdfe',\n",
       "     u'startTime': u'2019-02-18T08:57:39.791-08:00',\n",
       "     u'status': u'DONE',\n",
       "     u'targetId': u'6560694810351983343',\n",
       "     u'targetLink': u'https://www.googleapis.com/compute/v1/projects/first-220321/zones/us-central1-f/instances/api-i1',\n",
       "     u'user': u'prateeks@first-220321.iam.gserviceaccount.com',\n",
       "     u'zone': u'https://www.googleapis.com/compute/v1/projects/first-220321/zones/us-central1-f'},\n",
       "    {u'endTime': u'2019-02-18T10:15:05.966-08:00',\n",
       "     u'id': u'1085695446028339420',\n",
       "     u'insertTime': u'2019-02-18T10:15:05.966-08:00',\n",
       "     u'kind': u'compute#operation',\n",
       "     u'name': u'systemevent-1550513705966-5822f1aa9da33-e7afd32e-e452a090',\n",
       "     u'operationType': u'compute.instances.preempted',\n",
       "     u'progress': 100,\n",
       "     u'selfLink': u'https://www.googleapis.com/compute/v1/projects/first-220321/zones/us-central1-f/operations/systemevent-1550513705966-5822f1aa9da33-e7afd32e-e452a090',\n",
       "     u'startTime': u'2019-02-18T10:15:05.966-08:00',\n",
       "     u'status': u'DONE',\n",
       "     u'statusMessage': u'Instance was preempted.',\n",
       "     u'targetId': u'6560694810351983343',\n",
       "     u'targetLink': u'https://www.googleapis.com/compute/v1/projects/first-220321/zones/us-central1-f/instances/api-i1',\n",
       "     u'user': u'system',\n",
       "     u'zone': u'https://www.googleapis.com/compute/v1/projects/first-220321/zones/us-central1-f'}]},\n",
       "  u'zones/us-east1-b': {u'warning': {u'code': u'NO_RESULTS_ON_PAGE',\n",
       "    u'data': [{u'key': u'scope', u'value': u'zones/us-east1-b'}],\n",
       "    u'message': u\"There are no results for scope 'zones/us-east1-b' on this page.\"}},\n",
       "  u'zones/us-east1-c': {u'warning': {u'code': u'NO_RESULTS_ON_PAGE',\n",
       "    u'data': [{u'key': u'scope', u'value': u'zones/us-east1-c'}],\n",
       "    u'message': u\"There are no results for scope 'zones/us-east1-c' on this page.\"}},\n",
       "  u'zones/us-east1-d': {u'warning': {u'code': u'NO_RESULTS_ON_PAGE',\n",
       "    u'data': [{u'key': u'scope', u'value': u'zones/us-east1-d'}],\n",
       "    u'message': u\"There are no results for scope 'zones/us-east1-d' on this page.\"}},\n",
       "  u'zones/us-east4-a': {u'warning': {u'code': u'NO_RESULTS_ON_PAGE',\n",
       "    u'data': [{u'key': u'scope', u'value': u'zones/us-east4-a'}],\n",
       "    u'message': u\"There are no results for scope 'zones/us-east4-a' on this page.\"}},\n",
       "  u'zones/us-east4-b': {u'warning': {u'code': u'NO_RESULTS_ON_PAGE',\n",
       "    u'data': [{u'key': u'scope', u'value': u'zones/us-east4-b'}],\n",
       "    u'message': u\"There are no results for scope 'zones/us-east4-b' on this page.\"}},\n",
       "  u'zones/us-east4-c': {u'warning': {u'code': u'NO_RESULTS_ON_PAGE',\n",
       "    u'data': [{u'key': u'scope', u'value': u'zones/us-east4-c'}],\n",
       "    u'message': u\"There are no results for scope 'zones/us-east4-c' on this page.\"}},\n",
       "  u'zones/us-west1-a': {u'warning': {u'code': u'NO_RESULTS_ON_PAGE',\n",
       "    u'data': [{u'key': u'scope', u'value': u'zones/us-west1-a'}],\n",
       "    u'message': u\"There are no results for scope 'zones/us-west1-a' on this page.\"}},\n",
       "  u'zones/us-west1-b': {u'warning': {u'code': u'NO_RESULTS_ON_PAGE',\n",
       "    u'data': [{u'key': u'scope', u'value': u'zones/us-west1-b'}],\n",
       "    u'message': u\"There are no results for scope 'zones/us-west1-b' on this page.\"}},\n",
       "  u'zones/us-west1-c': {u'warning': {u'code': u'NO_RESULTS_ON_PAGE',\n",
       "    u'data': [{u'key': u'scope', u'value': u'zones/us-west1-c'}],\n",
       "    u'message': u\"There are no results for scope 'zones/us-west1-c' on this page.\"}},\n",
       "  u'zones/us-west2-a': {u'warning': {u'code': u'NO_RESULTS_ON_PAGE',\n",
       "    u'data': [{u'key': u'scope', u'value': u'zones/us-west2-a'}],\n",
       "    u'message': u\"There are no results for scope 'zones/us-west2-a' on this page.\"}},\n",
       "  u'zones/us-west2-b': {u'warning': {u'code': u'NO_RESULTS_ON_PAGE',\n",
       "    u'data': [{u'key': u'scope', u'value': u'zones/us-west2-b'}],\n",
       "    u'message': u\"There are no results for scope 'zones/us-west2-b' on this page.\"}},\n",
       "  u'zones/us-west2-c': {u'warning': {u'code': u'NO_RESULTS_ON_PAGE',\n",
       "    u'data': [{u'key': u'scope', u'value': u'zones/us-west2-c'}],\n",
       "    u'message': u\"There are no results for scope 'zones/us-west2-c' on this page.\"}}},\n",
       " u'kind': u'compute#operationAggregatedList',\n",
       " u'selfLink': u'https://www.googleapis.com/compute/v1/projects/first-220321/aggregated/operations'}"
      ]
     },
     "execution_count": 86,
     "metadata": {},
     "output_type": "execute_result"
    }
   ],
   "source": [
    "response"
   ]
  },
  {
   "cell_type": "code",
   "execution_count": null,
   "metadata": {
    "collapsed": true
   },
   "outputs": [],
   "source": []
  }
 ],
 "metadata": {
  "kernelspec": {
   "display_name": "Python 3",
   "language": "python",
   "name": "python3"
  },
  "language_info": {
   "codemirror_mode": {
    "name": "ipython",
    "version": 3
   },
   "file_extension": ".py",
   "mimetype": "text/x-python",
   "name": "python",
   "nbconvert_exporter": "python",
   "pygments_lexer": "ipython3",
   "version": "3.6.3"
  }
 },
 "nbformat": 4,
 "nbformat_minor": 2
}
