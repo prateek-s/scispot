{
 "cells": [
  {
   "cell_type": "code",
   "execution_count": 1,
   "metadata": {},
   "outputs": [],
   "source": [
    "import numpy as np\n",
    "import pandas as pd\n",
    "import matplotlib\n",
    "import matplotlib.pyplot as plt\n",
    "from mpl_toolkits.mplot3d import Axes3D"
   ]
  },
  {
   "cell_type": "code",
   "execution_count": 2,
   "metadata": {},
   "outputs": [],
   "source": [
    "matplotlib.rcParams.update({'font.size': 14})"
   ]
  },
  {
   "cell_type": "code",
   "execution_count": 3,
   "metadata": {},
   "outputs": [],
   "source": [
    "cdfparam = dict({'A':0.4137 , 'tau1':0.9 , 'tau2':0.76, 'b':24 })"
   ]
  },
  {
   "cell_type": "code",
   "execution_count": 4,
   "metadata": {},
   "outputs": [],
   "source": [
    "def SJK_CDF(t):\n",
    "    A = cdfparam['A']\n",
    "    b = cdfparam['b']\n",
    "    tau1 = cdfparam['tau1']\n",
    "    tau2 = cdfparam['tau2']\n",
    "    return A*(1.0-np.exp(-t/tau1) + np.exp((t-b)/tau2))\n",
    "\n",
    "def Expon_CDF(t):\n",
    "    lamb = 1/24.0 \n",
    "    return (1.0 - np.exp(-lamb*t))\n"
   ]
  },
  {
   "cell_type": "code",
   "execution_count": 6,
   "metadata": {},
   "outputs": [],
   "source": [
    "def L(t): \n",
    "    #Lifetime function , same as expected lifetime \n",
    "    #L(24) is MTTF \n",
    "    # This can be NEGATIVE? HOW? \n",
    "    A = cdfparam['A']\n",
    "    tau1 = cdfparam['tau1']\n",
    "    tau2 = cdfparam['tau2']\n",
    "    b = cdfparam['b']\n",
    "    return -A*(t+tau1)*np.exp(-t/tau1) + A*(t-tau2)*np.exp((t-b)/tau2)"
   ]
  },
  {
   "cell_type": "code",
   "execution_count": 11,
   "metadata": {},
   "outputs": [
    {
     "data": {
      "text/plain": [
       "9.61438799997298"
      ]
     },
     "execution_count": 11,
     "metadata": {},
     "output_type": "execute_result"
    }
   ],
   "source": [
    "L(24)"
   ]
  },
  {
   "cell_type": "markdown",
   "metadata": {},
   "source": [
    "$E[T_0] = T  + \\int_0^T tf(t) dt$ \n",
    "\n",
    "HPDC Expected running time at s: $E[T_s] = T  + \\int_s^{s+T} tf(t) dt$\n",
    "\n",
    "Revised-1 : $E[T_s] = T  + \\frac{1}{1-F(s)} \\int_s^{s+T} tf(t) dt$\n",
    "\n",
    "We reuse the Lifetime function, which is  $E[L] = \\int_0^L tf(t) dt$\n",
    "\n",
    "Thus in the HPDC scenario: $E[T_0] = L(T) - L(0)$, and \n",
    " $E[T_s] = L(T+s) - L(s)$\n",
    " \n",
    " \n",
    "With the revised-1 running time defintion, we need to scale by $1-F(s)$ and get:\n",
    " $E[T_s] = \\frac{1}{1-F(s)} [L(T+s) - L(s)]$\n",
    "\n",
    "\n",
    " "
   ]
  },
  {
   "cell_type": "code",
   "execution_count": 25,
   "metadata": {},
   "outputs": [],
   "source": [
    "def sched_decision(s, T):\n",
    "    # E[T+s] - E[T+0]\n",
    "    # E[T] = T + \\int_0^T tf(t) dt \n",
    "    # But, Expected lifetime is also same:, E[L(t)] = \\int_0^t tf(t) dt \n",
    "    # positive: expected time with old VM is higher, so use a new VM \n",
    "    d =  (L(s+T) - L(s)) - (L(T) - L(0))\n",
    "    return d\n",
    "    #if d <= 0:\n",
    "    #    return -1 \n",
    "    #else:\n",
    "    #    return 1 "
   ]
  },
  {
   "cell_type": "code",
   "execution_count": 14,
   "metadata": {},
   "outputs": [],
   "source": [
    "def sched_decision_revised(s, T):\n",
    "    # E[T+s] - E[T+0]\n",
    "    # E[T] = T + \\int_0^T tf(t) dt \n",
    "    # But, Expected lifetime is also same:, E[L(t)] = \\int_0^t tf(t) dt \n",
    "    # positive: expected time with old VM is higher, so use a new VM \n",
    "    T_s = (L(s+T) - L(s))/(1-SJK_CDF(s))\n",
    "    T_0 = (L(T) - L(0))\n",
    "    d =  T_s - T_0 \n",
    "    return d\n",
    "    #if d <= 0:\n",
    "    #    return -1 \n",
    "    #else:\n",
    "    #    return 1 "
   ]
  },
  {
   "cell_type": "code",
   "execution_count": 39,
   "metadata": {},
   "outputs": [],
   "source": [
    "def sched_decision_revised2(s, T):\n",
    "    # E[T+s] - E[T+0]\n",
    "    # E[T] = T + \\int_0^T tf(t) dt \n",
    "    # But, Expected lifetime is also same:, E[L(t)] = \\int_0^t tf(t) dt \n",
    "    # positive: expected time with old VM is higher, so use a new VM \n",
    "    scaling = (SJK_CDF(s+T) - SJK_CDF(s))/(SJK_CDF(s+T) - SJK_CDF(s)*SJK_CDF(s+T))\n",
    "    T_s = (L(s+T) - L(s))*scaling\n",
    "    T_0 = (L(T) - L(0))\n",
    "    d =  T_s - T_0 \n",
    "    return d\n",
    "    #if d <= 0:\n",
    "    #    return -1 \n",
    "    #else:\n",
    "    #    return 1 "
   ]
  },
  {
   "cell_type": "code",
   "execution_count": 36,
   "metadata": {},
   "outputs": [
    {
     "data": {
      "text/plain": [
       "[0.9999999999999885,\n",
       " 0.4520352259279319,\n",
       " 0.16990404801538989,\n",
       " 0.05867954174084614,\n",
       " 0.01963487002577338,\n",
       " 0.006498895515047186,\n",
       " 0.002143252249574266,\n",
       " 0.0007060190175919128,\n",
       " 0.00023267665914095345,\n",
       " 7.740138394951866e-05,\n",
       " 2.8466330387853857e-05,\n",
       " 2.0501226790415467e-05,\n",
       " 4.823834495410086e-05,\n",
       " 0.00017052790930435177,\n",
       " 0.0006324500997367865,\n",
       " 0.0023541911461027075,\n",
       " 0.008742408104984703,\n",
       " 0.03213891389635318,\n",
       " 0.11394062667987494,\n",
       " 0.35925415066816496]"
      ]
     },
     "execution_count": 36,
     "metadata": {},
     "output_type": "execute_result"
    }
   ],
   "source": [
    "T = 4\n",
    "\n",
    "[(SJK_CDF(s+T) - SJK_CDF(s))/(SJK_CDF(s+T) - (SJK_CDF(s)*SJK_CDF(s+T))) for s in range(0,20)]\n"
   ]
  },
  {
   "cell_type": "code",
   "execution_count": 15,
   "metadata": {},
   "outputs": [],
   "source": [
    "def bool_decision(s, T):\n",
    "    d = sched_decision(s, T)\n",
    "    if d <= 0:\n",
    "        return -1 \n",
    "    else:\n",
    "        return 1 "
   ]
  },
  {
   "cell_type": "code",
   "execution_count": 16,
   "metadata": {},
   "outputs": [],
   "source": [
    "def bool_decision_revised(s, T):\n",
    "    d = sched_decision_revised(s, T)\n",
    "    if d <= 0:\n",
    "        return -1 \n",
    "    else:\n",
    "        return 1 "
   ]
  },
  {
   "cell_type": "code",
   "execution_count": 40,
   "metadata": {},
   "outputs": [],
   "source": [
    "def bool_decision_revised2(s, T):\n",
    "    d = sched_decision_revised2(s, T)\n",
    "    if d <= 0:\n",
    "        return -1 \n",
    "    else:\n",
    "        return 1 "
   ]
  },
  {
   "cell_type": "code",
   "execution_count": 42,
   "metadata": {},
   "outputs": [
    {
     "name": "stderr",
     "output_type": "stream",
     "text": [
      "/usr/lib/python3/dist-packages/ipykernel_launcher.py:22: UserWarning: FixedFormatter should only be used together with FixedLocator\n",
      "/usr/lib/python3/dist-packages/ipykernel_launcher.py:23: UserWarning: FixedFormatter should only be used together with FixedLocator\n"
     ]
    },
    {
     "data": {
      "image/png": "[encoded data removed]",
      "text/plain": [
       "<Figure size 432x288 with 1 Axes>"
      ]
     },
     "metadata": {},
     "output_type": "display_data"
    }
   ],
   "source": [
    "#def plot_3d():\n",
    "from matplotlib.patches import Patch\n",
    "from mpl_toolkits.axes_grid1.axes_divider import make_axes_locatable\n",
    "#plt.locator_params(nbins=7)\n",
    "\n",
    "starts  = np.arange(0, 24, 0.01)\n",
    "lens  = np.arange(0, 24, 0.01)\n",
    "X, Y = np.meshgrid(starts, lens)\n",
    "fig = plt.figure()\n",
    "ax = fig.add_subplot(111) #,projection='3d')\n",
    "Z = sched_decision_revised2(X, Y)\n",
    "    #Axes3D.plot_surface(X=X, Y=Y, Z=Z)\n",
    "Z[Z<0]= -1  #Old VM preferred: Black \n",
    "Z[Z>=0] = 1 #New VM preferred : White \n",
    "im1 = ax.imshow(Z,cmap='hot') #hot\n",
    "ax.set_xlabel(\"Start Time\")\n",
    "ax.set_ylabel(\"Length\")\n",
    "ax.xaxis.set_major_locator(plt.MaxNLocator(6))\n",
    "ax.yaxis.set_major_locator(plt.MaxNLocator(6))\n",
    "\n",
    "#ax.tick_params(length=6)\n",
    "ax.set_xticklabels([0, 0,4,8,12,16,20,24])\n",
    "ax.set_yticklabels([0, 0,4,8,12,16,20,24])\n",
    "\n",
    "#ax1_divider = make_axes_locatable(ax)\n",
    "#cax1 = ax1_divider.append_axes(\"right\", size=\"7%\", pad=\"2%\")\n",
    "#cb1 = fig.colorbar(im1, cax=cax1)\n",
    "#plt.show()\n",
    "legend_elements = [Patch(facecolor='black', edgecolor='k',\n",
    "                         label='Re-use VM'),\n",
    "                  Patch(facecolor='white', edgecolor='k',\n",
    "                         label='New VM')]\n",
    "ax.legend(handles=legend_elements, loc = 'lower right')\n",
    "plt.savefig(\"../graphs/tipping-revised2.pdf\",bbox_inches='tight')\n",
    "    #ax.plot_surface(X, Y, Z)"
   ]
  },
  {
   "cell_type": "code",
   "execution_count": 38,
   "metadata": {},
   "outputs": [
    {
     "ename": "NameError",
     "evalue": "name 'sched_decision2' is not defined",
     "output_type": "error",
     "traceback": [
      "\u001b[0;31m---------------------------------------------------------------------------\u001b[0m",
      "\u001b[0;31mNameError\u001b[0m                                 Traceback (most recent call last)",
      "\u001b[0;32m<ipython-input-38-009b823485a6>\u001b[0m in \u001b[0;36m<module>\u001b[0;34m()\u001b[0m\n\u001b[1;32m      9\u001b[0m \u001b[0mfig\u001b[0m \u001b[0;34m=\u001b[0m \u001b[0mplt\u001b[0m\u001b[0;34m.\u001b[0m\u001b[0mfigure\u001b[0m\u001b[0;34m(\u001b[0m\u001b[0;34m)\u001b[0m\u001b[0;34m\u001b[0m\u001b[0;34m\u001b[0m\u001b[0m\n\u001b[1;32m     10\u001b[0m \u001b[0max\u001b[0m \u001b[0;34m=\u001b[0m \u001b[0mfig\u001b[0m\u001b[0;34m.\u001b[0m\u001b[0madd_subplot\u001b[0m\u001b[0;34m(\u001b[0m\u001b[0;36m111\u001b[0m\u001b[0;34m)\u001b[0m \u001b[0;31m#,projection='3d')\u001b[0m\u001b[0;34m\u001b[0m\u001b[0;34m\u001b[0m\u001b[0m\n\u001b[0;32m---> 11\u001b[0;31m \u001b[0mZ\u001b[0m \u001b[0;34m=\u001b[0m \u001b[0msched_decision2\u001b[0m\u001b[0;34m(\u001b[0m\u001b[0mX\u001b[0m\u001b[0;34m,\u001b[0m \u001b[0mY\u001b[0m\u001b[0;34m)\u001b[0m\u001b[0;34m\u001b[0m\u001b[0;34m\u001b[0m\u001b[0m\n\u001b[0m\u001b[1;32m     12\u001b[0m     \u001b[0;31m#Axes3D.plot_surface(X=X, Y=Y, Z=Z)\u001b[0m\u001b[0;34m\u001b[0m\u001b[0;34m\u001b[0m\u001b[0;34m\u001b[0m\u001b[0m\n\u001b[1;32m     13\u001b[0m \u001b[0mZ\u001b[0m\u001b[0;34m[\u001b[0m\u001b[0mZ\u001b[0m\u001b[0;34m<\u001b[0m\u001b[0;36m0\u001b[0m\u001b[0;34m]\u001b[0m\u001b[0;34m=\u001b[0m \u001b[0;34m-\u001b[0m\u001b[0;36m1\u001b[0m  \u001b[0;31m#Old VM preferred: Black\u001b[0m\u001b[0;34m\u001b[0m\u001b[0;34m\u001b[0m\u001b[0m\n",
      "\u001b[0;31mNameError\u001b[0m: name 'sched_decision2' is not defined"
     ]
    },
    {
     "data": {
      "image/png": "[encoded data removed]",
      "text/plain": [
       "<Figure size 432x288 with 1 Axes>"
      ]
     },
     "metadata": {},
     "output_type": "display_data"
    }
   ],
   "source": [
    "#def plot_3d():\n",
    "from matplotlib.patches import Patch\n",
    "from mpl_toolkits.axes_grid1.axes_divider import make_axes_locatable\n",
    "#plt.locator_params(nbins=7)\n",
    "\n",
    "starts  = np.arange(0, 24, 0.01)\n",
    "lens  = np.arange(0, 24, 0.01)\n",
    "X, Y = np.meshgrid(starts, lens)\n",
    "fig = plt.figure()\n",
    "ax = fig.add_subplot(111) #,projection='3d')\n",
    "Z = sched_decision_revised2(X, Y)\n",
    "    #Axes3D.plot_surface(X=X, Y=Y, Z=Z)\n",
    "Z[Z<0]= -1  #Old VM preferred: Black \n",
    "Z[Z>=0] = 1 #New VM preferred : White \n",
    "im1 = ax.imshow(Z,cmap='hot') #hot\n",
    "ax.set_xlabel(\"Start Time\")\n",
    "ax.set_ylabel(\"Length\")\n",
    "ax.xaxis.set_major_locator(plt.MaxNLocator(6))\n",
    "ax.yaxis.set_major_locator(plt.MaxNLocator(6))\n",
    "\n",
    "#ax.tick_params(length=6)\n",
    "ax.set_xticklabels([0, 0,4,8,12,16,20,24])\n",
    "ax.set_yticklabels([0, 0,4,8,12,16,20,24])\n",
    "\n",
    "#ax1_divider = make_axes_locatable(ax)\n",
    "#cax1 = ax1_divider.append_axes(\"right\", size=\"7%\", pad=\"2%\")\n",
    "#cb1 = fig.colorbar(im1, cax=cax1)\n",
    "#plt.show()\n",
    "legend_elements = [Patch(facecolor='black', edgecolor='k',\n",
    "                         label='Re-use VM'),\n",
    "                  Patch(facecolor='white', edgecolor='k',\n",
    "                         label='New VM')]\n",
    "ax.legend(handles=legend_elements, loc = 'lower right')\n",
    "plt.savefig(\"../graphs/tipping-revised2.pdf\",bbox_inches='tight')\n",
    "    #ax.plot_surface(X, Y, Z)"
   ]
  },
  {
   "cell_type": "code",
   "execution_count": 33,
   "metadata": {
    "scrolled": true
   },
   "outputs": [
    {
     "name": "stderr",
     "output_type": "stream",
     "text": [
      "/usr/lib/python3/dist-packages/ipykernel_launcher.py:22: UserWarning: FixedFormatter should only be used together with FixedLocator\n",
      "/usr/lib/python3/dist-packages/ipykernel_launcher.py:23: UserWarning: FixedFormatter should only be used together with FixedLocator\n"
     ]
    },
    {
     "data": {
      "image/png": "[encoded data removed]",
      "text/plain": [
       "<Figure size 432x288 with 1 Axes>"
      ]
     },
     "metadata": {},
     "output_type": "display_data"
    }
   ],
   "source": [
    "#def plot_3d():\n",
    "from matplotlib.patches import Patch\n",
    "from mpl_toolkits.axes_grid1.axes_divider import make_axes_locatable\n",
    "#plt.locator_params(nbins=7)\n",
    "\n",
    "starts  = np.arange(0, 24, 0.01)\n",
    "lens  = np.arange(0, 24, 0.01)\n",
    "X, Y = np.meshgrid(starts, lens)\n",
    "fig = plt.figure()\n",
    "ax = fig.add_subplot(111) #,projection='3d')\n",
    "Z = sched_decision_revised(X, Y)\n",
    "    #Axes3D.plot_surface(X=X, Y=Y, Z=Z)\n",
    "Z[Z<0]= -1  #Old VM preferred: Black \n",
    "Z[Z>=0] = 1 #New VM preferred : White \n",
    "im1 = ax.imshow(Z,cmap='copper') #hot\n",
    "ax.set_xlabel(\"Start Time\")\n",
    "ax.set_ylabel(\"Length\")\n",
    "ax.xaxis.set_major_locator(plt.MaxNLocator(6))\n",
    "ax.yaxis.set_major_locator(plt.MaxNLocator(6))\n",
    "\n",
    "#ax.tick_params(length=6)\n",
    "ax.set_xticklabels([0, 0,4,8,12,16,20,24])\n",
    "ax.set_yticklabels([0, 0,4,8,12,16,20,24])\n",
    "\n",
    "#ax1_divider = make_axes_locatable(ax)\n",
    "#cax1 = ax1_divider.append_axes(\"right\", size=\"7%\", pad=\"2%\")\n",
    "#cb1 = fig.colorbar(im1, cax=cax1)\n",
    "#plt.show()\n",
    "legend_elements = [Patch(facecolor='black', edgecolor='k',\n",
    "                         label='Re-use VM'),\n",
    "                  Patch(facecolor='yellow', edgecolor='k',\n",
    "                         label='New VM')]\n",
    "ax.legend(handles=legend_elements, loc = 'lower right')\n",
    "plt.savefig(\"../graphs/tipping-revised.pdf\",bbox_inches='tight')\n",
    "    #ax.plot_surface(X, Y, Z)"
   ]
  },
  {
   "cell_type": "code",
   "execution_count": 83,
   "metadata": {},
   "outputs": [],
   "source": [
    "Z[Z<=0]= -1 #negative means fresh VM "
   ]
  },
  {
   "cell_type": "code",
   "execution_count": 84,
   "metadata": {},
   "outputs": [],
   "source": [
    "Z[Z>0] = 1"
   ]
  },
  {
   "cell_type": "code",
   "execution_count": 85,
   "metadata": {},
   "outputs": [
    {
     "data": {
      "text/plain": [
       "<matplotlib.image.AxesImage at 0x7fa4a8a2b7b8>"
      ]
     },
     "execution_count": 85,
     "metadata": {},
     "output_type": "execute_result"
    },
    {
     "data": {
      "image/png": "[encoded data removed]",
      "text/plain": [
       "<matplotlib.figure.Figure at 0x7fa4a7f664a8>"
      ]
     },
     "metadata": {},
     "output_type": "display_data"
    }
   ],
   "source": [
    "plt.imshow(Z, cmap='hot')"
   ]
  },
  {
   "cell_type": "code",
   "execution_count": 74,
   "metadata": {},
   "outputs": [
    {
     "data": {
      "text/plain": [
       "array([[ 0.,  0.,  0.,  0.,  0.,  0.,  0.,  0.,  0.,  0.,  0.,  0.,  0.,\n",
       "         0.,  0.,  0.,  0.,  0.,  0.,  0.,  0.,  0.,  0.,  0.],\n",
       "       [ 0.,  1., -1., -1., -1., -1., -1., -1., -1., -1., -1., -1., -1.,\n",
       "        -1., -1., -1., -1., -1., -1., -1.,  1.,  1.,  1.,  1.],\n",
       "       [ 0., -1., -1., -1., -1., -1., -1., -1., -1., -1., -1., -1., -1.,\n",
       "        -1., -1., -1., -1., -1., -1., -1.,  1.,  1.,  1.,  1.],\n",
       "       [ 0., -1., -1., -1., -1., -1., -1., -1., -1., -1., -1., -1., -1.,\n",
       "        -1., -1., -1., -1., -1., -1.,  1.,  1.,  1.,  1.,  1.],\n",
       "       [ 0., -1., -1., -1., -1., -1., -1., -1., -1., -1., -1., -1., -1.,\n",
       "        -1., -1., -1., -1., -1.,  1.,  1.,  1.,  1.,  1.,  1.],\n",
       "       [ 0., -1., -1., -1., -1., -1., -1., -1., -1., -1., -1., -1., -1.,\n",
       "        -1., -1., -1., -1.,  1.,  1.,  1.,  1.,  1.,  1.,  1.],\n",
       "       [ 0., -1., -1., -1., -1., -1., -1., -1., -1., -1., -1., -1., -1.,\n",
       "        -1., -1., -1.,  1.,  1.,  1.,  1.,  1.,  1.,  1.,  1.],\n",
       "       [ 0., -1., -1., -1., -1., -1., -1., -1., -1., -1., -1., -1., -1.,\n",
       "        -1., -1.,  1.,  1.,  1.,  1.,  1.,  1.,  1.,  1.,  1.],\n",
       "       [ 0., -1., -1., -1., -1., -1., -1., -1., -1., -1., -1., -1., -1.,\n",
       "        -1.,  1.,  1.,  1.,  1.,  1.,  1.,  1.,  1.,  1.,  1.],\n",
       "       [ 0., -1., -1., -1., -1., -1., -1., -1., -1., -1., -1., -1., -1.,\n",
       "         1.,  1.,  1.,  1.,  1.,  1.,  1.,  1.,  1.,  1.,  1.],\n",
       "       [ 0., -1., -1., -1., -1., -1., -1., -1., -1., -1., -1., -1.,  1.,\n",
       "         1.,  1.,  1.,  1.,  1.,  1.,  1.,  1.,  1.,  1.,  1.],\n",
       "       [ 0., -1., -1., -1., -1., -1., -1., -1., -1., -1., -1.,  1.,  1.,\n",
       "         1.,  1.,  1.,  1.,  1.,  1.,  1.,  1.,  1.,  1.,  1.],\n",
       "       [ 0., -1., -1., -1., -1., -1., -1., -1., -1., -1.,  1.,  1.,  1.,\n",
       "         1.,  1.,  1.,  1.,  1.,  1.,  1.,  1.,  1.,  1.,  1.],\n",
       "       [ 0., -1., -1., -1., -1., -1., -1., -1., -1.,  1.,  1.,  1.,  1.,\n",
       "         1.,  1.,  1.,  1.,  1.,  1.,  1.,  1.,  1.,  1.,  1.],\n",
       "       [ 0., -1., -1., -1., -1., -1., -1., -1.,  1.,  1.,  1.,  1.,  1.,\n",
       "         1.,  1.,  1.,  1.,  1.,  1.,  1.,  1.,  1.,  1.,  1.],\n",
       "       [ 0., -1., -1., -1., -1., -1., -1.,  1.,  1.,  1.,  1.,  1.,  1.,\n",
       "         1.,  1.,  1.,  1.,  1.,  1.,  1.,  1.,  1.,  1.,  1.],\n",
       "       [ 0., -1., -1., -1., -1., -1.,  1.,  1.,  1.,  1.,  1.,  1.,  1.,\n",
       "         1.,  1.,  1.,  1.,  1.,  1.,  1.,  1.,  1.,  1.,  1.],\n",
       "       [ 0., -1., -1., -1., -1.,  1.,  1.,  1.,  1.,  1.,  1.,  1.,  1.,\n",
       "         1.,  1.,  1.,  1.,  1.,  1.,  1.,  1.,  1.,  1.,  1.],\n",
       "       [ 0., -1., -1., -1.,  1.,  1.,  1.,  1.,  1.,  1.,  1.,  1.,  1.,\n",
       "         1.,  1.,  1.,  1.,  1.,  1.,  1.,  1.,  1.,  1.,  1.],\n",
       "       [ 0., -1., -1.,  1.,  1.,  1.,  1.,  1.,  1.,  1.,  1.,  1.,  1.,\n",
       "         1.,  1.,  1.,  1.,  1.,  1.,  1.,  1.,  1.,  1.,  1.],\n",
       "       [ 0.,  1.,  1.,  1.,  1.,  1.,  1.,  1.,  1.,  1.,  1.,  1.,  1.,\n",
       "         1.,  1.,  1.,  1.,  1.,  1.,  1.,  1.,  1.,  1.,  1.],\n",
       "       [ 0.,  1.,  1.,  1.,  1.,  1.,  1.,  1.,  1.,  1.,  1.,  1.,  1.,\n",
       "         1.,  1.,  1.,  1.,  1.,  1.,  1.,  1.,  1.,  1.,  1.],\n",
       "       [ 0.,  1.,  1.,  1.,  1.,  1.,  1.,  1.,  1.,  1.,  1.,  1.,  1.,\n",
       "         1.,  1.,  1.,  1.,  1.,  1.,  1.,  1.,  1.,  1.,  1.],\n",
       "       [ 0.,  1.,  1.,  1.,  1.,  1.,  1.,  1.,  1.,  1.,  1.,  1.,  1.,\n",
       "         1.,  1.,  1.,  1.,  1.,  1.,  1.,  1.,  1.,  1.,  1.]])"
      ]
     },
     "execution_count": 74,
     "metadata": {},
     "output_type": "execute_result"
    }
   ],
   "source": [
    "Z"
   ]
  },
  {
   "cell_type": "code",
   "execution_count": 6,
   "metadata": {},
   "outputs": [],
   "source": [
    "def job_fail_prob(job_len, start_time):\n",
    "    p_fail = 0.0\n",
    "    end_time = job_len + start_time \n",
    "    if end_time > 24.3:\n",
    "        p_fail = 1.0 \n",
    "        return p_fail \n",
    "    p_fail = SJK_CDF(end_time) - SJK_CDF(start_time)\n",
    "    return p_fail "
   ]
  },
  {
   "cell_type": "code",
   "execution_count": 7,
   "metadata": {},
   "outputs": [],
   "source": [
    "def smart_job_fail_prob(job_len, start_time):\n",
    "    p_fail = 0.0\n",
    "    end_time = job_len + start_time \n",
    "    if end_time > 24.3:\n",
    "        #start a new one for sure \n",
    "        p_fail_new = SJK_CDF(job_len) - SJK_CDF(0)\n",
    "        return p_fail_new\n",
    "    else:\n",
    "        p_fail_old = SJK_CDF(end_time) - SJK_CDF(start_time)\n",
    "        p_fail_new = SJK_CDF(job_len) - SJK_CDF(0)\n",
    "        return min(p_fail_new, p_fail_old)"
   ]
  },
  {
   "cell_type": "code",
   "execution_count": 8,
   "metadata": {},
   "outputs": [
    {
     "data": {
      "text/plain": [
       "0.4136429457683769"
      ]
     },
     "execution_count": 8,
     "metadata": {},
     "output_type": "execute_result"
    }
   ],
   "source": [
    "smart_job_fail_prob(8, 16.7)"
   ]
  },
  {
   "cell_type": "code",
   "execution_count": 9,
   "metadata": {},
   "outputs": [
    {
     "data": {
      "image/png": "[encoded data removed]",
      "text/plain": [
       "<matplotlib.figure.Figure at 0x7fa4aac78438>"
      ]
     },
     "metadata": {},
     "output_type": "display_data"
    }
   ],
   "source": [
    "plt.plot([job_fail_prob(6,s) for s in range(0,25)], ls='--', color='k', marker='+', label=\"Memoryless Policy\")\n",
    "plt.plot([smart_job_fail_prob(6,s) for s in range(0,25)], color='r', label=\"Our Policy\")\n",
    "plt.legend(loc='best', frameon=False)\n",
    "plt.xlabel(\"Job start time (hours)\")\n",
    "plt.ylabel(\"Job failure probability\")\n",
    "plt.title(\"6 hour job\",fontsize=14)\n",
    "fig = matplotlib.pyplot.gcf()\n",
    "fig.set_size_inches(5, 3)\n",
    "#plt.savefig(\"../graphs/Sched-bathtub.pdf\",bbox_inches='tight')"
   ]
  },
  {
   "cell_type": "code",
   "execution_count": 19,
   "metadata": {},
   "outputs": [],
   "source": [
    "def avg_fail_prob(job_len):\n",
    "    return np.mean([job_fail_prob(job_len, s) for s in range(0,24)])\n",
    "\n",
    "def smart_avg_fail_prob(job_len):\n",
    "    return np.mean([smart_job_fail_prob(job_len, s) for s in range(0,24)])"
   ]
  },
  {
   "cell_type": "code",
   "execution_count": 54,
   "metadata": {},
   "outputs": [
    {
     "data": {
      "image/png": "[encoded data removed]",
      "text/plain": [
       "<matplotlib.figure.Figure at 0x7fd79a238550>"
      ]
     },
     "metadata": {},
     "output_type": "display_data"
    }
   ],
   "source": [
    "plt.plot([avg_fail_prob(job_len) for job_len in range(0,25)], ls='--', color='k', marker='+' , label=\"Memoryless Policy\")\n",
    "plt.plot([smart_avg_fail_prob(job_len) for job_len in range(0,25)], color='r', label=\"Our Policy\")\n",
    "plt.legend(frameon=False)\n",
    "plt.xlabel(\"Job length (hours)\")\n",
    "plt.ylabel(\"Job Failure probability\")\n",
    "fig = matplotlib.pyplot.gcf()\n",
    "fig.set_size_inches(5, 3)\n",
    "plt.savefig(\"../graphs/Sched-fail-prob.pdf\", bbox_inches='tight')"
   ]
  },
  {
   "cell_type": "markdown",
   "metadata": {},
   "source": [
    "# Comparing Bathtub vs. Uniform CDF for expected job recomputation time"
   ]
  },
  {
   "cell_type": "code",
   "execution_count": 21,
   "metadata": {},
   "outputs": [],
   "source": [
    "def exp_wasted(job_len, CDF_type):\n",
    "    if CDF_type is \"SJK\":\n",
    "        fail_prob = job_fail_prob_SJK(job_len, 0)\n",
    "    else: \n",
    "        fail_prob = job_fail_prob_UNIFORM(job_len, 0)\n",
    "\n",
    "    # We want \\sum^joblen {P(x)*x}  \n",
    "    \n",
    "    return fail_prob\n"
   ]
  },
  {
   "cell_type": "code",
   "execution_count": 22,
   "metadata": {},
   "outputs": [],
   "source": [
    "def job_fail_prob_SJK(job_len, start_time):\n",
    "    p_fail = 0.0\n",
    "    end_time = job_len + start_time \n",
    "    if end_time > 24.3:\n",
    "        p_fail = 1.0 \n",
    "        return p_fail \n",
    "    p_fail = SJK_CDF(end_time) - SJK_CDF(start_time)\n",
    "    return p_fail "
   ]
  },
  {
   "cell_type": "code",
   "execution_count": 23,
   "metadata": {},
   "outputs": [],
   "source": [
    "def job_fail_prob_UNIFORM(job_len, start_time):\n",
    "    p_fail = min(job_len/24.0, 1.0)\n",
    "    return p_fail "
   ]
  },
  {
   "cell_type": "code",
   "execution_count": 24,
   "metadata": {},
   "outputs": [],
   "source": [
    "def wasted_UNIFORM(job_len):\n",
    "    #Area of the triangle (0,0) (joblen,0) (joblen,CDF(joblen))\n",
    "    #y = job_len/24.0 \n",
    "    #return y * 0.5 * job_len \n",
    "    return job_len/2.0 #Wasted given there is a single failure "
   ]
  },
  {
   "cell_type": "code",
   "execution_count": 25,
   "metadata": {},
   "outputs": [
    {
     "data": {
      "text/plain": [
       "3.0"
      ]
     },
     "execution_count": 25,
     "metadata": {},
     "output_type": "execute_result"
    }
   ],
   "source": [
    "wasted_UNIFORM(6)"
   ]
  },
  {
   "cell_type": "code",
   "execution_count": 26,
   "metadata": {},
   "outputs": [],
   "source": [
    "def func_approx_4_param_expon_exp(t, A, b, tau1, tau2):\n",
    "    return t*A*((np.exp(-t/tau1)/tau1) + (np.exp((t-b)/tau2))/tau2)    "
   ]
  },
  {
   "cell_type": "code",
   "execution_count": 27,
   "metadata": {},
   "outputs": [],
   "source": [
    "def expected_paper(t):\n",
    "    A = cdfparam['A']\n",
    "    tau1 = cdfparam['tau1']\n",
    "    tau2 = cdfparam['tau2']\n",
    "    b = cdfparam['b']\n",
    "    return -A*(t+tau1)*np.exp(-t/tau1) + A*(t-tau2)*np.exp((t-b)/tau2)"
   ]
  },
  {
   "cell_type": "code",
   "execution_count": 28,
   "metadata": {},
   "outputs": [],
   "source": [
    "def wasted_SJK(job_len):\n",
    "    return (expected_paper(job_len) - expected_paper(0))/SJK_CDF(job_len)"
   ]
  },
  {
   "cell_type": "code",
   "execution_count": 29,
   "metadata": {},
   "outputs": [
    {
     "data": {
      "text/plain": [
       "0.40925827872289094"
      ]
     },
     "execution_count": 29,
     "metadata": {},
     "output_type": "execute_result"
    }
   ],
   "source": [
    "wasted_SJK(1)"
   ]
  },
  {
   "cell_type": "code",
   "execution_count": 59,
   "metadata": {},
   "outputs": [
    {
     "data": {
      "image/png": "[encoded data removed]",
      "text/plain": [
       "<matplotlib.figure.Figure at 0x7fd799e3d208>"
      ]
     },
     "metadata": {},
     "output_type": "display_data"
    }
   ],
   "source": [
    "plt.plot([wasted_SJK(jlen) for jlen in range(0,25)], label=\"Bathtub\", color='r')\n",
    "plt.plot([wasted_UNIFORM(jlen) for jlen in range(0,25)], label=\"Uniform\", ls='--', marker='+',  color='k')\n",
    "plt.legend()\n",
    "plt.xlabel(\"Job length (hours)\")\n",
    "plt.ylabel(\"Wasted Hours Due to Preemption\")\n",
    "plt.title(\"Assuming 1 restart due to preemption\", fontsize=14)\n",
    "fig = matplotlib.pyplot.gcf()\n",
    "fig.set_size_inches(6, 4)\n",
    "plt.savefig(\"../graphs/uniform-v-bathtub.pdf\", bbox_inches='tight')"
   ]
  },
  {
   "cell_type": "code",
   "execution_count": 60,
   "metadata": {},
   "outputs": [
    {
     "data": {
      "image/png": "[encoded data removed]",
      "text/plain": [
       "<matplotlib.figure.Figure at 0x7fd799af1940>"
      ]
     },
     "metadata": {},
     "output_type": "display_data"
    }
   ],
   "source": [
    "plt.plot([wasted_SJK(jlen)*job_fail_prob_SJK(jlen, 0) for jlen in range(0,25)], label=\"Bathtub\", color='r')\n",
    "plt.plot([wasted_UNIFORM(jlen)*job_fail_prob_UNIFORM(jlen,0) for jlen in range(0,25)], ls='--', label=\"Uniform\", color='k')\n",
    "plt.legend()\n",
    "plt.xlabel(\"Job length (hours)\")\n",
    "plt.ylabel(\"Expected Increase In Running Time \\n (hours)\")\n",
    "#plt.title(\"Waste*P(1 failure)\")\n",
    "fig = matplotlib.pyplot.gcf()\n",
    "fig.set_size_inches(6, 4)\n",
    "plt.savefig(\"../graphs/uniform-v-bathtub-2.pdf\", bbox_inches='tight')"
   ]
  },
  {
   "cell_type": "code",
   "execution_count": null,
   "metadata": {},
   "outputs": [],
   "source": []
  }
 ],
 "metadata": {
  "kernelspec": {
   "display_name": "Python 3",
   "language": "python",
   "name": "python3"
  },
  "language_info": {
   "codemirror_mode": {
    "name": "ipython",
    "version": 3
   },
   "file_extension": ".py",
   "mimetype": "text/x-python",
   "name": "python",
   "nbconvert_exporter": "python",
   "pygments_lexer": "ipython3",
   "version": "3.6.9"
  }
 },
 "nbformat": 4,
 "nbformat_minor": 2
}
